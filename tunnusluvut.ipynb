{
 "cells": [
  {
   "cell_type": "code",
   "execution_count": 1,
   "metadata": {},
   "outputs": [
    {
     "name": "stdout",
     "output_type": "stream",
     "text": [
      "Päivitetty 2022-10-26 18:59:36.136350\n"
     ]
    }
   ],
   "source": [
    "from datetime import datetime\n",
    "print(f'Päivitetty {datetime.now()}')"
   ]
  },
  {
   "cell_type": "markdown",
   "metadata": {},
   "source": [
    "# Tilastolliset tunnusluvut ja korrelaatiot Exceliin\n",
    "\n",
    "Datan tilalla voi käyttää mitä tahansa oikeaoppisesti tallennettua dataa."
   ]
  },
  {
   "cell_type": "code",
   "execution_count": 2,
   "metadata": {},
   "outputs": [],
   "source": [
    "import pandas as pd\n",
    "\n",
    "# Excelin ohjaukseen\n",
    "import xlwings as xw\n",
    "\n",
    "# Avaan datan\n",
    "df = pd.read_excel('http://taanila.fi/data1.xlsx')"
   ]
  },
  {
   "cell_type": "code",
   "execution_count": 3,
   "metadata": {},
   "outputs": [],
   "source": [
    "# Excel-työkirja (workbook)\n",
    "app = xw.App(visible=False)\n",
    "wb = xw.books.active\n",
    "\n",
    "# Taulukkovälilehden nimeäminen\n",
    "wb.sheets.active.name = 'korrelaatiot'\n",
    "\n",
    "# Lasken korrelaatiot ja kirjoitan ne korrelaatiot-taulukkovälilehdelle\n",
    "xw.view(df.corr(), sheet=wb.sheets.active, table=False)\n",
    "wb.sheets.active.used_range.number_format = '0,00'\n",
    "\n",
    "# Uusi taulukkovälilehti\n",
    "tunnusluvut = wb.sheets.add('tunnusluvut')\n",
    "\n",
    "# Lasken tunnusluvut ja kirjoitan ne tunnusluvut-taulukkovälilehdelle\n",
    "xw.view(df.describe(), sheet=tunnusluvut, table=False)\n",
    "wb.sheets.active.used_range.number_format = '0,00'\n",
    "\n",
    "# Tunnusluvuille suomenkieliset nimet\n",
    "nimet = ['Lukumäärä', 'Keskiarvo', 'Keskihajonta', 'Pienin', \n",
    "         'Alaneljännes', 'Mediaani', 'Yläneljännes', 'Suurin']\n",
    "for i in range(len(nimet)):\n",
    "    wb.sheets.active.range(i+2, 1).value=nimet[i]\n",
    "    \n",
    "# Sarakkeen leveyden säätäminen    \n",
    "wb.sheets.active.range('A:A').autofit()\n",
    "\n",
    "# Näytetään Excel\n",
    "app.visible = True"
   ]
  },
  {
   "cell_type": "markdown",
   "metadata": {},
   "source": [
    "Lisätietoa Pythonin käytöstä data-analytiikassa https://tilastoapu.wordpress.com/python/"
   ]
  }
 ],
 "metadata": {
  "kernelspec": {
   "display_name": "Python 3 (ipykernel)",
   "language": "python",
   "name": "python3"
  },
  "language_info": {
   "codemirror_mode": {
    "name": "ipython",
    "version": 3
   },
   "file_extension": ".py",
   "mimetype": "text/x-python",
   "name": "python",
   "nbconvert_exporter": "python",
   "pygments_lexer": "ipython3",
   "version": "3.10.6"
  }
 },
 "nbformat": 4,
 "nbformat_minor": 2
}
