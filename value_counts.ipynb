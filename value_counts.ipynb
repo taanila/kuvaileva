{
 "cells": [
  {
   "cell_type": "markdown",
   "metadata": {},
   "source": [
    "<h1>value_counts() - monitoimityökalu lukumäärien laskemiseen</h1>\n",
    "\n",
    "Frekvenssitaulukot ja ristiintaulukoinnit voin laskea crosstab()-toiminnolla, mutta taitavalle käyttäjälle value_counts() on kätevämpi ja antaa enemmän mahdollisuuksia.\n",
    "\n",
    "value_counts()-toimintoa käytettäessä täytyy olla huolellinen ja tuntea funktion käyttäytyminen eri tilanteissa. Seuraavassa esittelen value_counts()-funktion käyttöön liittyviä niksejä."
   ]
  },
  {
   "cell_type": "code",
   "execution_count": 1,
   "metadata": {},
   "outputs": [
    {
     "name": "stdout",
     "output_type": "stream",
     "text": [
      "<class 'pandas.core.frame.DataFrame'>\n",
      "RangeIndex: 82 entries, 0 to 81\n",
      "Data columns (total 17 columns):\n",
      " #   Column       Non-Null Count  Dtype  \n",
      "---  ------       --------------  -----  \n",
      " 0   nro          82 non-null     int64  \n",
      " 1   sukup        82 non-null     int64  \n",
      " 2   ikä          82 non-null     int64  \n",
      " 3   perhe        82 non-null     int64  \n",
      " 4   koulutus     81 non-null     float64\n",
      " 5   palveluv     80 non-null     float64\n",
      " 6   palkka       82 non-null     int64  \n",
      " 7   johto        82 non-null     int64  \n",
      " 8   työtov       81 non-null     float64\n",
      " 9   työymp       82 non-null     int64  \n",
      " 10  palkkat      82 non-null     int64  \n",
      " 11  työteht      82 non-null     int64  \n",
      " 12  työterv      47 non-null     float64\n",
      " 13  lomaosa      20 non-null     float64\n",
      " 14  kuntosa      9 non-null      float64\n",
      " 15  hieroja      22 non-null     float64\n",
      " 16  työteht_obj  82 non-null     object \n",
      "dtypes: float64(7), int64(9), object(1)\n",
      "memory usage: 11.0+ KB\n"
     ]
    }
   ],
   "source": [
    "import pandas as pd\n",
    "\n",
    "# Avaan datan\n",
    "df=pd.read_excel('https://taanila.fi/data1.xlsx')\n",
    "\n",
    "# Lisään dataan yhden object-tyyppisen muuttujan\n",
    "df['työteht_obj'] = df['työteht'].replace({1 : 'Erittäin tyytymätön', 2 : 'Tyytymätön', 3 : 'Siltä väliltä',\n",
    "                                       4 : 'Tyytyväinen', 5 : 'Erittäin tyytyväinen'})\n",
    "\n",
    "# Nyt datassa on kokonaisluku (int64), liukuluku (float64) ja object-tyyppisiä muuttujia\n",
    "df.info()"
   ]
  },
  {
   "cell_type": "code",
   "execution_count": 2,
   "metadata": {},
   "outputs": [
    {
     "data": {
      "text/plain": [
       "3    30\n",
       "4    23\n",
       "5    11\n",
       "2     9\n",
       "1     9\n",
       "Name: työymp, dtype: int64"
      ]
     },
     "execution_count": 2,
     "metadata": {},
     "output_type": "execute_result"
    }
   ],
   "source": [
    "# Oletuksena value_counts() tuottaa frekvenssien mukaisen järjestyksen\n",
    "# Tämä ei useinkaan ole haluttu järjestys\n",
    "df['työymp'].value_counts()"
   ]
  },
  {
   "cell_type": "code",
   "execution_count": 3,
   "metadata": {},
   "outputs": [
    {
     "data": {
      "text/html": [
       "<div>\n",
       "<style scoped>\n",
       "    .dataframe tbody tr th:only-of-type {\n",
       "        vertical-align: middle;\n",
       "    }\n",
       "\n",
       "    .dataframe tbody tr th {\n",
       "        vertical-align: top;\n",
       "    }\n",
       "\n",
       "    .dataframe thead th {\n",
       "        text-align: right;\n",
       "    }\n",
       "</style>\n",
       "<table border=\"1\" class=\"dataframe\">\n",
       "  <thead>\n",
       "    <tr style=\"text-align: right;\">\n",
       "      <th></th>\n",
       "      <th>työymp</th>\n",
       "    </tr>\n",
       "  </thead>\n",
       "  <tbody>\n",
       "    <tr>\n",
       "      <th>3</th>\n",
       "      <td>30</td>\n",
       "    </tr>\n",
       "    <tr>\n",
       "      <th>4</th>\n",
       "      <td>23</td>\n",
       "    </tr>\n",
       "    <tr>\n",
       "      <th>5</th>\n",
       "      <td>11</td>\n",
       "    </tr>\n",
       "    <tr>\n",
       "      <th>2</th>\n",
       "      <td>9</td>\n",
       "    </tr>\n",
       "    <tr>\n",
       "      <th>1</th>\n",
       "      <td>9</td>\n",
       "    </tr>\n",
       "  </tbody>\n",
       "</table>\n",
       "</div>"
      ],
      "text/plain": [
       "   työymp\n",
       "3      30\n",
       "4      23\n",
       "5      11\n",
       "2       9\n",
       "1       9"
      ]
     },
     "execution_count": 3,
     "metadata": {},
     "output_type": "execute_result"
    }
   ],
   "source": [
    "# Jos tulos ei ole dataframe, niin to_frame() muuntaa sen dataframeksi\n",
    "df['työymp'].value_counts().to_frame()"
   ]
  },
  {
   "cell_type": "markdown",
   "metadata": {},
   "source": [
    "<h3>Kokonaisluku (int) -tyyppinen muuuttuja</h3>"
   ]
  },
  {
   "cell_type": "code",
   "execution_count": 4,
   "metadata": {},
   "outputs": [
    {
     "data": {
      "text/html": [
       "<div>\n",
       "<style scoped>\n",
       "    .dataframe tbody tr th:only-of-type {\n",
       "        vertical-align: middle;\n",
       "    }\n",
       "\n",
       "    .dataframe tbody tr th {\n",
       "        vertical-align: top;\n",
       "    }\n",
       "\n",
       "    .dataframe thead th {\n",
       "        text-align: right;\n",
       "    }\n",
       "</style>\n",
       "<table border=\"1\" class=\"dataframe\">\n",
       "  <thead>\n",
       "    <tr style=\"text-align: right;\">\n",
       "      <th></th>\n",
       "      <th>työymp</th>\n",
       "    </tr>\n",
       "  </thead>\n",
       "  <tbody>\n",
       "    <tr>\n",
       "      <th>1</th>\n",
       "      <td>9</td>\n",
       "    </tr>\n",
       "    <tr>\n",
       "      <th>2</th>\n",
       "      <td>9</td>\n",
       "    </tr>\n",
       "    <tr>\n",
       "      <th>3</th>\n",
       "      <td>30</td>\n",
       "    </tr>\n",
       "    <tr>\n",
       "      <th>4</th>\n",
       "      <td>23</td>\n",
       "    </tr>\n",
       "    <tr>\n",
       "      <th>5</th>\n",
       "      <td>11</td>\n",
       "    </tr>\n",
       "  </tbody>\n",
       "</table>\n",
       "</div>"
      ],
      "text/plain": [
       "   työymp\n",
       "1       9\n",
       "2       9\n",
       "3      30\n",
       "4      23\n",
       "5      11"
      ]
     },
     "execution_count": 4,
     "metadata": {},
     "output_type": "execute_result"
    }
   ],
   "source": [
    "# Lisäparametri sort = False kumoaa frekvenssien mukaan järjestämisen\n",
    "# Kokonaisluku (int) -tyyppisen muuttujan arvot järjestyvät kokonaislukujen suuruusjärjestykseen\n",
    "df['työymp'].value_counts(sort = False).to_frame()"
   ]
  },
  {
   "cell_type": "markdown",
   "metadata": {},
   "source": [
    "<h3>Liukuluku (float) -tyyppinen muuttuja</h3>"
   ]
  },
  {
   "cell_type": "code",
   "execution_count": 5,
   "metadata": {},
   "outputs": [
    {
     "data": {
      "text/html": [
       "<div>\n",
       "<style scoped>\n",
       "    .dataframe tbody tr th:only-of-type {\n",
       "        vertical-align: middle;\n",
       "    }\n",
       "\n",
       "    .dataframe tbody tr th {\n",
       "        vertical-align: top;\n",
       "    }\n",
       "\n",
       "    .dataframe thead th {\n",
       "        text-align: right;\n",
       "    }\n",
       "</style>\n",
       "<table border=\"1\" class=\"dataframe\">\n",
       "  <thead>\n",
       "    <tr style=\"text-align: right;\">\n",
       "      <th></th>\n",
       "      <th>työtov</th>\n",
       "    </tr>\n",
       "  </thead>\n",
       "  <tbody>\n",
       "    <tr>\n",
       "      <th>3.0</th>\n",
       "      <td>16</td>\n",
       "    </tr>\n",
       "    <tr>\n",
       "      <th>5.0</th>\n",
       "      <td>27</td>\n",
       "    </tr>\n",
       "    <tr>\n",
       "      <th>4.0</th>\n",
       "      <td>35</td>\n",
       "    </tr>\n",
       "    <tr>\n",
       "      <th>2.0</th>\n",
       "      <td>3</td>\n",
       "    </tr>\n",
       "  </tbody>\n",
       "</table>\n",
       "</div>"
      ],
      "text/plain": [
       "     työtov\n",
       "3.0      16\n",
       "5.0      27\n",
       "4.0      35\n",
       "2.0       3"
      ]
     },
     "execution_count": 5,
     "metadata": {},
     "output_type": "execute_result"
    }
   ],
   "source": [
    "# Järjestys voi yllättää, jos tarkasteltava muuttuja on liukuluku (float) -tyyppinen\n",
    "df['työtov'].value_counts(sort = False).to_frame()"
   ]
  },
  {
   "cell_type": "code",
   "execution_count": 6,
   "metadata": {},
   "outputs": [
    {
     "data": {
      "text/html": [
       "<div>\n",
       "<style scoped>\n",
       "    .dataframe tbody tr th:only-of-type {\n",
       "        vertical-align: middle;\n",
       "    }\n",
       "\n",
       "    .dataframe tbody tr th {\n",
       "        vertical-align: top;\n",
       "    }\n",
       "\n",
       "    .dataframe thead th {\n",
       "        text-align: right;\n",
       "    }\n",
       "</style>\n",
       "<table border=\"1\" class=\"dataframe\">\n",
       "  <thead>\n",
       "    <tr style=\"text-align: right;\">\n",
       "      <th></th>\n",
       "      <th>työtov</th>\n",
       "    </tr>\n",
       "  </thead>\n",
       "  <tbody>\n",
       "    <tr>\n",
       "      <th>2.0</th>\n",
       "      <td>3</td>\n",
       "    </tr>\n",
       "    <tr>\n",
       "      <th>3.0</th>\n",
       "      <td>16</td>\n",
       "    </tr>\n",
       "    <tr>\n",
       "      <th>4.0</th>\n",
       "      <td>35</td>\n",
       "    </tr>\n",
       "    <tr>\n",
       "      <th>5.0</th>\n",
       "      <td>27</td>\n",
       "    </tr>\n",
       "  </tbody>\n",
       "</table>\n",
       "</div>"
      ],
      "text/plain": [
       "     työtov\n",
       "2.0       3\n",
       "3.0      16\n",
       "4.0      35\n",
       "5.0      27"
      ]
     },
     "execution_count": 6,
     "metadata": {},
     "output_type": "execute_result"
    }
   ],
   "source": [
    "# Indeksin mukaan järjestäminen laittaa liukuluvut lukujen mukaiseen järjestykseen\n",
    "df['työtov'].value_counts().sort_index().to_frame()"
   ]
  },
  {
   "cell_type": "markdown",
   "metadata": {},
   "source": [
    "<h3>Object-tyyppinen muuttuja</h3>"
   ]
  },
  {
   "cell_type": "code",
   "execution_count": 7,
   "metadata": {},
   "outputs": [
    {
     "data": {
      "text/html": [
       "<div>\n",
       "<style scoped>\n",
       "    .dataframe tbody tr th:only-of-type {\n",
       "        vertical-align: middle;\n",
       "    }\n",
       "\n",
       "    .dataframe tbody tr th {\n",
       "        vertical-align: top;\n",
       "    }\n",
       "\n",
       "    .dataframe thead th {\n",
       "        text-align: right;\n",
       "    }\n",
       "</style>\n",
       "<table border=\"1\" class=\"dataframe\">\n",
       "  <thead>\n",
       "    <tr style=\"text-align: right;\">\n",
       "      <th></th>\n",
       "      <th>työteht_obj</th>\n",
       "    </tr>\n",
       "  </thead>\n",
       "  <tbody>\n",
       "    <tr>\n",
       "      <th>Tyytymätön</th>\n",
       "      <td>15</td>\n",
       "    </tr>\n",
       "    <tr>\n",
       "      <th>Siltä väliltä</th>\n",
       "      <td>29</td>\n",
       "    </tr>\n",
       "    <tr>\n",
       "      <th>Tyytyväinen</th>\n",
       "      <td>25</td>\n",
       "    </tr>\n",
       "    <tr>\n",
       "      <th>Erittäin tyytymätön</th>\n",
       "      <td>5</td>\n",
       "    </tr>\n",
       "    <tr>\n",
       "      <th>Erittäin tyytyväinen</th>\n",
       "      <td>8</td>\n",
       "    </tr>\n",
       "  </tbody>\n",
       "</table>\n",
       "</div>"
      ],
      "text/plain": [
       "                      työteht_obj\n",
       "Tyytymätön                     15\n",
       "Siltä väliltä                  29\n",
       "Tyytyväinen                    25\n",
       "Erittäin tyytymätön             5\n",
       "Erittäin tyytyväinen            8"
      ]
     },
     "execution_count": 7,
     "metadata": {},
     "output_type": "execute_result"
    }
   ],
   "source": [
    "# Järjestys voi yllättää, jos tarkasteltava muuttuja on object-tyyppinen\n",
    "df['työteht_obj'].value_counts(sort = False).to_frame()"
   ]
  },
  {
   "cell_type": "code",
   "execution_count": 8,
   "metadata": {},
   "outputs": [
    {
     "data": {
      "text/html": [
       "<div>\n",
       "<style scoped>\n",
       "    .dataframe tbody tr th:only-of-type {\n",
       "        vertical-align: middle;\n",
       "    }\n",
       "\n",
       "    .dataframe tbody tr th {\n",
       "        vertical-align: top;\n",
       "    }\n",
       "\n",
       "    .dataframe thead th {\n",
       "        text-align: right;\n",
       "    }\n",
       "</style>\n",
       "<table border=\"1\" class=\"dataframe\">\n",
       "  <thead>\n",
       "    <tr style=\"text-align: right;\">\n",
       "      <th></th>\n",
       "      <th>työteht_obj</th>\n",
       "    </tr>\n",
       "  </thead>\n",
       "  <tbody>\n",
       "    <tr>\n",
       "      <th>Erittäin tyytymätön</th>\n",
       "      <td>5</td>\n",
       "    </tr>\n",
       "    <tr>\n",
       "      <th>Erittäin tyytyväinen</th>\n",
       "      <td>8</td>\n",
       "    </tr>\n",
       "    <tr>\n",
       "      <th>Siltä väliltä</th>\n",
       "      <td>29</td>\n",
       "    </tr>\n",
       "    <tr>\n",
       "      <th>Tyytymätön</th>\n",
       "      <td>15</td>\n",
       "    </tr>\n",
       "    <tr>\n",
       "      <th>Tyytyväinen</th>\n",
       "      <td>25</td>\n",
       "    </tr>\n",
       "  </tbody>\n",
       "</table>\n",
       "</div>"
      ],
      "text/plain": [
       "                      työteht_obj\n",
       "Erittäin tyytymätön             5\n",
       "Erittäin tyytyväinen            8\n",
       "Siltä väliltä                  29\n",
       "Tyytymätön                     15\n",
       "Tyytyväinen                    25"
      ]
     },
     "execution_count": 8,
     "metadata": {},
     "output_type": "execute_result"
    }
   ],
   "source": [
    "# Indeksin mukaan järjestäminen laittaa object-tyypin aakkosjärjestykseen\n",
    "# Tämä ei useinkaan ole haluttu järjestys\n",
    "df['työteht_obj'].value_counts().sort_index().to_frame()"
   ]
  },
  {
   "cell_type": "code",
   "execution_count": 9,
   "metadata": {},
   "outputs": [
    {
     "data": {
      "text/html": [
       "<div>\n",
       "<style scoped>\n",
       "    .dataframe tbody tr th:only-of-type {\n",
       "        vertical-align: middle;\n",
       "    }\n",
       "\n",
       "    .dataframe tbody tr th {\n",
       "        vertical-align: top;\n",
       "    }\n",
       "\n",
       "    .dataframe thead th {\n",
       "        text-align: right;\n",
       "    }\n",
       "</style>\n",
       "<table border=\"1\" class=\"dataframe\">\n",
       "  <thead>\n",
       "    <tr style=\"text-align: right;\">\n",
       "      <th></th>\n",
       "      <th>työteht_obj</th>\n",
       "    </tr>\n",
       "  </thead>\n",
       "  <tbody>\n",
       "    <tr>\n",
       "      <th>Erittäin tyytymätön</th>\n",
       "      <td>5</td>\n",
       "    </tr>\n",
       "    <tr>\n",
       "      <th>Tyytymätön</th>\n",
       "      <td>15</td>\n",
       "    </tr>\n",
       "    <tr>\n",
       "      <th>Siltä väliltä</th>\n",
       "      <td>29</td>\n",
       "    </tr>\n",
       "    <tr>\n",
       "      <th>Tyytyväinen</th>\n",
       "      <td>25</td>\n",
       "    </tr>\n",
       "    <tr>\n",
       "      <th>Erittäin tyytyväinen</th>\n",
       "      <td>8</td>\n",
       "    </tr>\n",
       "  </tbody>\n",
       "</table>\n",
       "</div>"
      ],
      "text/plain": [
       "                      työteht_obj\n",
       "Erittäin tyytymätön             5\n",
       "Tyytymätön                     15\n",
       "Siltä väliltä                  29\n",
       "Tyytyväinen                    25\n",
       "Erittäin tyytyväinen            8"
      ]
     },
     "execution_count": 9,
     "metadata": {},
     "output_type": "execute_result"
    }
   ],
   "source": [
    "# Halutun järjestyksen saan listan ja reindex()-toiminnon avulla\n",
    "tyytyväisyydet = ['Erittäin tyytymätön', 'Tyytymätön', 'Siltä väliltä', 'Tyytyväinen', 'Erittäin tyytyväinen']\n",
    "df['työteht_obj'].value_counts().reindex(tyytyväisyydet).to_frame()"
   ]
  },
  {
   "cell_type": "markdown",
   "metadata": {},
   "source": [
    "<h3>value_counts() osaa näyttää myös puuttuvat arvot</h3>"
   ]
  },
  {
   "cell_type": "code",
   "execution_count": 10,
   "metadata": {},
   "outputs": [
    {
     "data": {
      "text/html": [
       "<div>\n",
       "<style scoped>\n",
       "    .dataframe tbody tr th:only-of-type {\n",
       "        vertical-align: middle;\n",
       "    }\n",
       "\n",
       "    .dataframe tbody tr th {\n",
       "        vertical-align: top;\n",
       "    }\n",
       "\n",
       "    .dataframe thead th {\n",
       "        text-align: right;\n",
       "    }\n",
       "</style>\n",
       "<table border=\"1\" class=\"dataframe\">\n",
       "  <thead>\n",
       "    <tr style=\"text-align: right;\">\n",
       "      <th></th>\n",
       "      <th>koulutus</th>\n",
       "    </tr>\n",
       "  </thead>\n",
       "  <tbody>\n",
       "    <tr>\n",
       "      <th>1.0</th>\n",
       "      <td>27</td>\n",
       "    </tr>\n",
       "    <tr>\n",
       "      <th>2.0</th>\n",
       "      <td>30</td>\n",
       "    </tr>\n",
       "    <tr>\n",
       "      <th>3.0</th>\n",
       "      <td>22</td>\n",
       "    </tr>\n",
       "    <tr>\n",
       "      <th>4.0</th>\n",
       "      <td>2</td>\n",
       "    </tr>\n",
       "    <tr>\n",
       "      <th>NaN</th>\n",
       "      <td>1</td>\n",
       "    </tr>\n",
       "  </tbody>\n",
       "</table>\n",
       "</div>"
      ],
      "text/plain": [
       "     koulutus\n",
       "1.0        27\n",
       "2.0        30\n",
       "3.0        22\n",
       "4.0         2\n",
       "NaN         1"
      ]
     },
     "execution_count": 10,
     "metadata": {},
     "output_type": "execute_result"
    }
   ],
   "source": [
    "# Voin halutessani näyttää puuttuvat arvot\n",
    "df['koulutus'].value_counts(dropna = False).sort_index().to_frame()"
   ]
  },
  {
   "cell_type": "markdown",
   "metadata": {},
   "source": [
    "<h3>value_counts() osaa myös prosentit</h3>"
   ]
  },
  {
   "cell_type": "code",
   "execution_count": 11,
   "metadata": {},
   "outputs": [
    {
     "data": {
      "text/html": [
       "<style  type=\"text/css\" >\n",
       "</style><table id=\"T_b8827821_1b6a_11eb_b629_00e18c75b321\" ><thead>    <tr>        <th class=\"blank level0\" ></th>        <th class=\"col_heading level0 col0\" >koulutus</th>        <th class=\"col_heading level0 col1\" >%</th>    </tr></thead><tbody>\n",
       "                <tr>\n",
       "                        <th id=\"T_b8827821_1b6a_11eb_b629_00e18c75b321level0_row0\" class=\"row_heading level0 row0\" >Peruskoulu</th>\n",
       "                        <td id=\"T_b8827821_1b6a_11eb_b629_00e18c75b321row0_col0\" class=\"data row0 col0\" >27</td>\n",
       "                        <td id=\"T_b8827821_1b6a_11eb_b629_00e18c75b321row0_col1\" class=\"data row0 col1\" >33.3 %</td>\n",
       "            </tr>\n",
       "            <tr>\n",
       "                        <th id=\"T_b8827821_1b6a_11eb_b629_00e18c75b321level0_row1\" class=\"row_heading level0 row1\" >2. aste</th>\n",
       "                        <td id=\"T_b8827821_1b6a_11eb_b629_00e18c75b321row1_col0\" class=\"data row1 col0\" >30</td>\n",
       "                        <td id=\"T_b8827821_1b6a_11eb_b629_00e18c75b321row1_col1\" class=\"data row1 col1\" >37.0 %</td>\n",
       "            </tr>\n",
       "            <tr>\n",
       "                        <th id=\"T_b8827821_1b6a_11eb_b629_00e18c75b321level0_row2\" class=\"row_heading level0 row2\" >Korkeakoulu</th>\n",
       "                        <td id=\"T_b8827821_1b6a_11eb_b629_00e18c75b321row2_col0\" class=\"data row2 col0\" >22</td>\n",
       "                        <td id=\"T_b8827821_1b6a_11eb_b629_00e18c75b321row2_col1\" class=\"data row2 col1\" >27.2 %</td>\n",
       "            </tr>\n",
       "            <tr>\n",
       "                        <th id=\"T_b8827821_1b6a_11eb_b629_00e18c75b321level0_row3\" class=\"row_heading level0 row3\" >Ylempi korkeakoulu</th>\n",
       "                        <td id=\"T_b8827821_1b6a_11eb_b629_00e18c75b321row3_col0\" class=\"data row3 col0\" >2</td>\n",
       "                        <td id=\"T_b8827821_1b6a_11eb_b629_00e18c75b321row3_col1\" class=\"data row3 col1\" >2.5 %</td>\n",
       "            </tr>\n",
       "            <tr>\n",
       "                        <th id=\"T_b8827821_1b6a_11eb_b629_00e18c75b321level0_row4\" class=\"row_heading level0 row4\" >Yhteensä</th>\n",
       "                        <td id=\"T_b8827821_1b6a_11eb_b629_00e18c75b321row4_col0\" class=\"data row4 col0\" >81</td>\n",
       "                        <td id=\"T_b8827821_1b6a_11eb_b629_00e18c75b321row4_col1\" class=\"data row4 col1\" >100.0 %</td>\n",
       "            </tr>\n",
       "    </tbody></table>"
      ],
      "text/plain": [
       "<pandas.io.formats.style.Styler at 0x1a00b078c10>"
      ]
     },
     "execution_count": 11,
     "metadata": {},
     "output_type": "execute_result"
    }
   ],
   "source": [
    "df1 = df['koulutus'].value_counts().sort_index().to_frame()\n",
    "\n",
    "df1['%'] = df['koulutus'].value_counts(normalize = True).to_frame() * 100\n",
    "\n",
    "df1.index = ['Peruskoulu', '2. aste', 'Korkeakoulu', 'Ylempi korkeakoulu']\n",
    "\n",
    "df1.loc['Yhteensä'] = df1.sum()\n",
    "\n",
    "df1.style.format({'koulutus' : '{:.0f}', '%' : '{:.1f} %'})"
   ]
  },
  {
   "cell_type": "markdown",
   "metadata": {},
   "source": [
    "<h3>value_counts() osaa myös luokitella</h3>"
   ]
  },
  {
   "cell_type": "code",
   "execution_count": 12,
   "metadata": {},
   "outputs": [
    {
     "data": {
      "text/html": [
       "<div>\n",
       "<style scoped>\n",
       "    .dataframe tbody tr th:only-of-type {\n",
       "        vertical-align: middle;\n",
       "    }\n",
       "\n",
       "    .dataframe tbody tr th {\n",
       "        vertical-align: top;\n",
       "    }\n",
       "\n",
       "    .dataframe thead th {\n",
       "        text-align: right;\n",
       "    }\n",
       "</style>\n",
       "<table border=\"1\" class=\"dataframe\">\n",
       "  <thead>\n",
       "    <tr style=\"text-align: right;\">\n",
       "      <th></th>\n",
       "      <th>palkka</th>\n",
       "    </tr>\n",
       "  </thead>\n",
       "  <tbody>\n",
       "    <tr>\n",
       "      <th>(1499.999, 2000.0]</th>\n",
       "      <td>19</td>\n",
       "    </tr>\n",
       "    <tr>\n",
       "      <th>(2000.0, 2500.0]</th>\n",
       "      <td>28</td>\n",
       "    </tr>\n",
       "    <tr>\n",
       "      <th>(2500.0, 3000.0]</th>\n",
       "      <td>22</td>\n",
       "    </tr>\n",
       "    <tr>\n",
       "      <th>(3000.0, 8000.0]</th>\n",
       "      <td>13</td>\n",
       "    </tr>\n",
       "  </tbody>\n",
       "</table>\n",
       "</div>"
      ],
      "text/plain": [
       "                    palkka\n",
       "(1499.999, 2000.0]      19\n",
       "(2000.0, 2500.0]        28\n",
       "(2500.0, 3000.0]        22\n",
       "(3000.0, 8000.0]        13"
      ]
     },
     "execution_count": 12,
     "metadata": {},
     "output_type": "execute_result"
    }
   ],
   "source": [
    "# Luokkarajat\n",
    "bins = [1500, 2000, 2500, 3000, 8000]\n",
    "\n",
    "df['palkka'].value_counts(bins = bins).sort_index().to_frame()"
   ]
  },
  {
   "cell_type": "markdown",
   "metadata": {},
   "source": [
    "<h3>groupby() + value_counts() mahdollistaa ristiintaulukoinnin</h3>"
   ]
  },
  {
   "cell_type": "code",
   "execution_count": 13,
   "metadata": {},
   "outputs": [
    {
     "data": {
      "text/html": [
       "<div>\n",
       "<style scoped>\n",
       "    .dataframe tbody tr th:only-of-type {\n",
       "        vertical-align: middle;\n",
       "    }\n",
       "\n",
       "    .dataframe tbody tr th {\n",
       "        vertical-align: top;\n",
       "    }\n",
       "\n",
       "    .dataframe thead th {\n",
       "        text-align: right;\n",
       "    }\n",
       "</style>\n",
       "<table border=\"1\" class=\"dataframe\">\n",
       "  <thead>\n",
       "    <tr style=\"text-align: right;\">\n",
       "      <th></th>\n",
       "      <th>Mies</th>\n",
       "      <th>Nainen</th>\n",
       "    </tr>\n",
       "    <tr>\n",
       "      <th>palkka</th>\n",
       "      <th></th>\n",
       "      <th></th>\n",
       "    </tr>\n",
       "  </thead>\n",
       "  <tbody>\n",
       "    <tr>\n",
       "      <th>(1499.999, 2000.0]</th>\n",
       "      <td>13</td>\n",
       "      <td>6</td>\n",
       "    </tr>\n",
       "    <tr>\n",
       "      <th>(2000.0, 2500.0]</th>\n",
       "      <td>20</td>\n",
       "      <td>8</td>\n",
       "    </tr>\n",
       "    <tr>\n",
       "      <th>(2500.0, 3000.0]</th>\n",
       "      <td>17</td>\n",
       "      <td>5</td>\n",
       "    </tr>\n",
       "    <tr>\n",
       "      <th>(3000.0, 8000.0]</th>\n",
       "      <td>13</td>\n",
       "      <td>0</td>\n",
       "    </tr>\n",
       "    <tr>\n",
       "      <th>Yhteensä</th>\n",
       "      <td>63</td>\n",
       "      <td>19</td>\n",
       "    </tr>\n",
       "  </tbody>\n",
       "</table>\n",
       "</div>"
      ],
      "text/plain": [
       "                    Mies  Nainen\n",
       "palkka                          \n",
       "(1499.999, 2000.0]    13       6\n",
       "(2000.0, 2500.0]      20       8\n",
       "(2500.0, 3000.0]      17       5\n",
       "(3000.0, 8000.0]      13       0\n",
       "Yhteensä              63      19"
      ]
     },
     "execution_count": 13,
     "metadata": {},
     "output_type": "execute_result"
    }
   ],
   "source": [
    "df2 = df.groupby('sukup')['palkka'].value_counts(sort = False, bins = bins).unstack('sukup')\n",
    "\n",
    "# Sarakkeessa voi olla vain yhdentyyppistä tietoa\n",
    "# Yhteensä-rivin lisäämiseksi interval-tyypin luokkarajat täytyy muuntaa merkkijonoiksi (str)\n",
    "df2.index = df2.index.astype(str)\n",
    "df2.loc['Yhteensä'] = df2.sum()\n",
    "\n",
    "# Sarakeotsikot\n",
    "df2.columns=['Mies', 'Nainen']\n",
    "\n",
    "df2"
   ]
  },
  {
   "cell_type": "markdown",
   "metadata": {},
   "source": [
    "<h3>value_counts() mahdollistaa usean samalla asteikolla mitatun muuttujan frekvenssitaulukon</h3>"
   ]
  },
  {
   "cell_type": "code",
   "execution_count": 14,
   "metadata": {},
   "outputs": [
    {
     "data": {
      "text/html": [
       "<style  type=\"text/css\" >\n",
       "</style><table id=\"T_b8901103_1b6a_11eb_97c0_00e18c75b321\" ><thead>    <tr>        <th class=\"blank level0\" ></th>        <th class=\"col_heading level0 col0\" >johto</th>        <th class=\"col_heading level0 col1\" >työtov</th>        <th class=\"col_heading level0 col2\" >työymp</th>        <th class=\"col_heading level0 col3\" >palkkat</th>        <th class=\"col_heading level0 col4\" >työteht</th>    </tr></thead><tbody>\n",
       "                <tr>\n",
       "                        <th id=\"T_b8901103_1b6a_11eb_97c0_00e18c75b321level0_row0\" class=\"row_heading level0 row0\" >Erittäin tyytymätön</th>\n",
       "                        <td id=\"T_b8901103_1b6a_11eb_97c0_00e18c75b321row0_col0\" class=\"data row0 col0\" >8.5 %</td>\n",
       "                        <td id=\"T_b8901103_1b6a_11eb_97c0_00e18c75b321row0_col1\" class=\"data row0 col1\" >nan %</td>\n",
       "                        <td id=\"T_b8901103_1b6a_11eb_97c0_00e18c75b321row0_col2\" class=\"data row0 col2\" >11.0 %</td>\n",
       "                        <td id=\"T_b8901103_1b6a_11eb_97c0_00e18c75b321row0_col3\" class=\"data row0 col3\" >40.2 %</td>\n",
       "                        <td id=\"T_b8901103_1b6a_11eb_97c0_00e18c75b321row0_col4\" class=\"data row0 col4\" >6.1 %</td>\n",
       "            </tr>\n",
       "            <tr>\n",
       "                        <th id=\"T_b8901103_1b6a_11eb_97c0_00e18c75b321level0_row1\" class=\"row_heading level0 row1\" >Tyytymätön</th>\n",
       "                        <td id=\"T_b8901103_1b6a_11eb_97c0_00e18c75b321row1_col0\" class=\"data row1 col0\" >19.5 %</td>\n",
       "                        <td id=\"T_b8901103_1b6a_11eb_97c0_00e18c75b321row1_col1\" class=\"data row1 col1\" >3.7 %</td>\n",
       "                        <td id=\"T_b8901103_1b6a_11eb_97c0_00e18c75b321row1_col2\" class=\"data row1 col2\" >11.0 %</td>\n",
       "                        <td id=\"T_b8901103_1b6a_11eb_97c0_00e18c75b321row1_col3\" class=\"data row1 col3\" >23.2 %</td>\n",
       "                        <td id=\"T_b8901103_1b6a_11eb_97c0_00e18c75b321row1_col4\" class=\"data row1 col4\" >18.3 %</td>\n",
       "            </tr>\n",
       "            <tr>\n",
       "                        <th id=\"T_b8901103_1b6a_11eb_97c0_00e18c75b321level0_row2\" class=\"row_heading level0 row2\" >Siltä väliltä</th>\n",
       "                        <td id=\"T_b8901103_1b6a_11eb_97c0_00e18c75b321row2_col0\" class=\"data row2 col0\" >36.6 %</td>\n",
       "                        <td id=\"T_b8901103_1b6a_11eb_97c0_00e18c75b321row2_col1\" class=\"data row2 col1\" >19.8 %</td>\n",
       "                        <td id=\"T_b8901103_1b6a_11eb_97c0_00e18c75b321row2_col2\" class=\"data row2 col2\" >36.6 %</td>\n",
       "                        <td id=\"T_b8901103_1b6a_11eb_97c0_00e18c75b321row2_col3\" class=\"data row2 col3\" >23.2 %</td>\n",
       "                        <td id=\"T_b8901103_1b6a_11eb_97c0_00e18c75b321row2_col4\" class=\"data row2 col4\" >35.4 %</td>\n",
       "            </tr>\n",
       "            <tr>\n",
       "                        <th id=\"T_b8901103_1b6a_11eb_97c0_00e18c75b321level0_row3\" class=\"row_heading level0 row3\" >Tyytyväinen</th>\n",
       "                        <td id=\"T_b8901103_1b6a_11eb_97c0_00e18c75b321row3_col0\" class=\"data row3 col0\" >28.0 %</td>\n",
       "                        <td id=\"T_b8901103_1b6a_11eb_97c0_00e18c75b321row3_col1\" class=\"data row3 col1\" >43.2 %</td>\n",
       "                        <td id=\"T_b8901103_1b6a_11eb_97c0_00e18c75b321row3_col2\" class=\"data row3 col2\" >28.0 %</td>\n",
       "                        <td id=\"T_b8901103_1b6a_11eb_97c0_00e18c75b321row3_col3\" class=\"data row3 col3\" >12.2 %</td>\n",
       "                        <td id=\"T_b8901103_1b6a_11eb_97c0_00e18c75b321row3_col4\" class=\"data row3 col4\" >30.5 %</td>\n",
       "            </tr>\n",
       "            <tr>\n",
       "                        <th id=\"T_b8901103_1b6a_11eb_97c0_00e18c75b321level0_row4\" class=\"row_heading level0 row4\" >Erittäin tyytyväinen</th>\n",
       "                        <td id=\"T_b8901103_1b6a_11eb_97c0_00e18c75b321row4_col0\" class=\"data row4 col0\" >7.3 %</td>\n",
       "                        <td id=\"T_b8901103_1b6a_11eb_97c0_00e18c75b321row4_col1\" class=\"data row4 col1\" >33.3 %</td>\n",
       "                        <td id=\"T_b8901103_1b6a_11eb_97c0_00e18c75b321row4_col2\" class=\"data row4 col2\" >13.4 %</td>\n",
       "                        <td id=\"T_b8901103_1b6a_11eb_97c0_00e18c75b321row4_col3\" class=\"data row4 col3\" >1.2 %</td>\n",
       "                        <td id=\"T_b8901103_1b6a_11eb_97c0_00e18c75b321row4_col4\" class=\"data row4 col4\" >9.8 %</td>\n",
       "            </tr>\n",
       "            <tr>\n",
       "                        <th id=\"T_b8901103_1b6a_11eb_97c0_00e18c75b321level0_row5\" class=\"row_heading level0 row5\" >Yhteensä</th>\n",
       "                        <td id=\"T_b8901103_1b6a_11eb_97c0_00e18c75b321row5_col0\" class=\"data row5 col0\" >100.0 %</td>\n",
       "                        <td id=\"T_b8901103_1b6a_11eb_97c0_00e18c75b321row5_col1\" class=\"data row5 col1\" >100.0 %</td>\n",
       "                        <td id=\"T_b8901103_1b6a_11eb_97c0_00e18c75b321row5_col2\" class=\"data row5 col2\" >100.0 %</td>\n",
       "                        <td id=\"T_b8901103_1b6a_11eb_97c0_00e18c75b321row5_col3\" class=\"data row5 col3\" >100.0 %</td>\n",
       "                        <td id=\"T_b8901103_1b6a_11eb_97c0_00e18c75b321row5_col4\" class=\"data row5 col4\" >100.0 %</td>\n",
       "            </tr>\n",
       "    </tbody></table>"
      ],
      "text/plain": [
       "<pandas.io.formats.style.Styler at 0x1a00b069c40>"
      ]
     },
     "execution_count": 14,
     "metadata": {},
     "output_type": "execute_result"
    }
   ],
   "source": [
    "# Lasken lukumääriä value_counts()-funktiolla ja muutan tuloksen dataframeksi\n",
    "df3 = df['johto'].value_counts(sort = False, normalize = True).to_frame()\n",
    "\n",
    "# Lisään dataframeen uusia sarakkeita\n",
    "df3['työtov'] = df['työtov'].value_counts(sort = False, normalize = True)\n",
    "df3['työymp'] = df['työymp'].value_counts(sort = False, normalize = True)\n",
    "df3['palkkat'] = df['palkkat'].value_counts(sort = False, normalize = True)\n",
    "df3['työteht'] = df['työteht'].value_counts(sort = False, normalize = True)\n",
    "\n",
    "# Riviotsikot aiemmin määritellystä tyytyväisyys-listasta\n",
    "df3.index = tyytyväisyydet\n",
    "\n",
    "# Yhteensä-rivi\n",
    "df3.loc['Yhteensä'] = df3.sum()\n",
    "\n",
    "# Loppusilaus\n",
    "(df3 * 100).style.format('{:.1f} %')"
   ]
  },
  {
   "cell_type": "markdown",
   "metadata": {},
   "source": [
    "Katso https://pandas.pydata.org/pandas-docs/stable/reference/api/pandas.Series.value_counts.html"
   ]
  }
 ],
 "metadata": {
  "kernelspec": {
   "display_name": "Python 3",
   "language": "python",
   "name": "python3"
  },
  "language_info": {
   "codemirror_mode": {
    "name": "ipython",
    "version": 3
   },
   "file_extension": ".py",
   "mimetype": "text/x-python",
   "name": "python",
   "nbconvert_exporter": "python",
   "pygments_lexer": "ipython3",
   "version": "3.8.3"
  }
 },
 "nbformat": 4,
 "nbformat_minor": 2
}
