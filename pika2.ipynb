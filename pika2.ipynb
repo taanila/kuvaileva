{
 "cells": [
  {
   "cell_type": "markdown",
   "metadata": {},
   "source": [
    "# Pika-analyysi Exceliin\n",
    "\n",
    "Frekvenssitaulukot, ristiintaulukoinnit, keskeiset tunnusluvut ja korrelaatiot Excel-tiedostoon.\n",
    "\n",
    "Pika-analyysiä voit käyttää seuraavasti:\n",
    "\n",
    "* Vaihda avattavan datan tilalle oma data\n",
    "* Suorita koodi\n",
    "* Koodin suorittamisen jälkeen Excel-tiedosto **pika.xlsx** löytyy output-kansiosta."
   ]
  },
  {
   "cell_type": "code",
   "execution_count": 1,
   "metadata": {
    "scrolled": true
   },
   "outputs": [],
   "source": [
    "import pandas as pd\n",
    "\n",
    "# Jos muuttujalla on ainutkertaisia arvoja yli RAJAn, niin muuttuja tulkitaan määrälliseksi\n",
    "# RAJA-arvoa voit tarvittaessa muuttaa\n",
    "RAJA = 10\n",
    "\n",
    "# Vaihda tähän analysoitava data\n",
    "df = pd.read_excel('https://taanila.fi/titanic.xlsx')"
   ]
  },
  {
   "cell_type": "code",
   "execution_count": 2,
   "metadata": {},
   "outputs": [],
   "source": [
    "# Alustavat toimet\n",
    "\n",
    "# luodaan Listat määrällisistä ja kategorisista muuttujista\n",
    "kvantit = []\n",
    "kategoriset = []\n",
    "for muuttuja in df:\n",
    "    if (len(df[muuttuja].unique())>RAJA) & (df[muuttuja].dtype in ['int64', 'float64']):\n",
    "        kvantit.append(muuttuja)\n",
    "    elif len(df[muuttuja].unique())<=RAJA:\n",
    "        kategoriset.append(muuttuja)\n",
    "\n",
    "# Luon ExcelWriter-olion, joka kirjoittaa pika.xlsx-tiedostoon\n",
    "writer = pd.ExcelWriter('output/pika.xlsx', engine='xlsxwriter')\n",
    "\n",
    "# Prosentti-muotoilu, jota käytän frekvenssitaulukoissa ja ristiintaulukoinneissa\n",
    "format = writer.book.add_format({'num_format':'0.0 %'})\n",
    "\n",
    "\n",
    "# Frekvenssitaulukot\n",
    "\n",
    "if kategoriset:\n",
    "    # Pidän kirjaa Excelin rivinumerosta rivi-muuttujan avulla\n",
    "    rivi = 0\n",
    "    # Käyn for-silmukalla läpi kaikki kategoriset muuttujat\n",
    "    for muuttuja in kategoriset:\n",
    "        # Lasken frekvenssit df1-nimiseen dataframeen\n",
    "        df1 = pd.crosstab(df[muuttuja], 'f')\n",
    "        # Lasken df1:een prosentit\n",
    "        df1['%'] = df1/df1.sum()\n",
    "        # Lisään df1:een Yhteensä-rivin\n",
    "        df1.loc['yhteensä'] = df1.sum()\n",
    "        # Kirjoitan frekvenssitaulukon Excel-tiedoston Frekvenssit-taulukkovälilehdelle\n",
    "        df1.to_excel(writer, sheet_name='Frekvenssit', startrow=rivi)\n",
    "        # Kasvatan rivinumeroa; shape[0] antaa df1:n rivimäärän\n",
    "        rivi = rivi + df1.shape[0] + 2\n",
    "    # Lisään C-sarakkeeseen prosenttimuotoilun\n",
    "    writer.sheets['Frekvenssit'].set_column('C:C', cell_format=format)\n",
    "\n",
    "\n",
    "# Ristiintaulukoinnit\n",
    "    \n",
    "if len(kategoriset) > 1:\n",
    "    rivi = 0\n",
    "    for muuttuja1 in kategoriset:\n",
    "        for muuttuja2 in kategoriset:\n",
    "            if muuttuja1 != muuttuja2:\n",
    "                df1 = pd.crosstab(df[muuttuja1], df[muuttuja2])\n",
    "                df2 = pd.crosstab(df[muuttuja1], df[muuttuja2], normalize='columns')\n",
    "                df2.index.name=muuttuja1+'/'+muuttuja2 \n",
    "                df2.loc['n'] = df1.sum()\n",
    "                df2.to_excel(writer, sheet_name='Ristiintaulukoinnit', startrow=rivi)\n",
    "                for i in range(rivi+1, rivi+df2.shape[0]):\n",
    "                    writer.sheets['Ristiintaulukoinnit'].set_row(i, cell_format=format)\n",
    "                rivi = rivi+df2.shape[0]+2\n",
    "        \n",
    "\n",
    "# Tunnusluvut\n",
    "            \n",
    "if kvantit:\n",
    "    df1 = df[kvantit].describe()\n",
    "    df1.to_excel(writer, sheet_name='Tunnusluvut')\n",
    "    # Tunnusluvut kategoristen määräämissä ryhmissä\n",
    "    if kategoriset:\n",
    "        rivi = df1.shape[0]+2\n",
    "        for muuttuja1 in kategoriset:\n",
    "            for muuttuja2 in kvantit:\n",
    "                if muuttuja1 != muuttuja2:\n",
    "                    df1 = df.groupby(muuttuja1)[muuttuja2].describe()\n",
    "                    df1.index.name = muuttuja1+'/'+muuttuja2\n",
    "                    df1.to_excel(writer, sheet_name='Tunnusluvut', startrow = rivi)\n",
    "                    rivi = rivi + df1.shape[0]+2\n",
    "\n",
    "\n",
    "# Korrelaatiot                \n",
    "                \n",
    "if kvantit:\n",
    "    df1 = df[kvantit].corr()\n",
    "    df1.to_excel(writer, sheet_name='Korrelaatiot')\n",
    "\n",
    "\n",
    "# Excel-tiedoston tallennus\n",
    "writer.close()"
   ]
  },
  {
   "cell_type": "markdown",
   "metadata": {},
   "source": [
    "Taulukon otsikoiden muotoilu Excelissä on konstikasta. Katso https://xlsxwriter.readthedocs.io/working_with_pandas.html#formatting-of-the-dataframe-headers\n",
    "\n",
    "Lisätietoa Pythonin käytöstä data-analytiikassa https://tilastoapu.wordpress.com/python/"
   ]
  }
 ],
 "metadata": {
  "kernelspec": {
   "display_name": "Python 3 (ipykernel)",
   "language": "python",
   "name": "python3"
  },
  "language_info": {
   "codemirror_mode": {
    "name": "ipython",
    "version": 3
   },
   "file_extension": ".py",
   "mimetype": "text/x-python",
   "name": "python",
   "nbconvert_exporter": "python",
   "pygments_lexer": "ipython3",
   "version": "3.10.9"
  }
 },
 "nbformat": 4,
 "nbformat_minor": 2
}
