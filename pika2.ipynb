{
 "cells": [
  {
   "cell_type": "code",
   "execution_count": 1,
   "metadata": {},
   "outputs": [
    {
     "name": "stdout",
     "output_type": "stream",
     "text": [
      "Päivitetty 2025-11-01 / Aki Taanila\n"
     ]
    }
   ],
   "source": [
    "from datetime import datetime\n",
    "print(f'Päivitetty {datetime.now().date()} / Aki Taanila')"
   ]
  },
  {
   "cell_type": "markdown",
   "metadata": {},
   "source": [
    "# Pika-analyysi - tulostaulukot Excel-tiedostoon\n",
    "\n",
    "Frekvenssitaulukot, ristiintaulukoinnit, tilastolliset tunnusluvut ja korrelaatiot Excel-tiedostoon.\n",
    "\n",
    "Pika-analyysiä voit käyttää oman datan kanssa seuraavasti:\n",
    "\n",
    "* Vaihda avattavan datan tilalle oma data, esim. `df = pd.read_excel('oma_data.xlsx')`\n",
    "* Suorita koodi\n",
    "* Koodin suorittamisen jälkeen Excel-tiedosto **pika.xlsx** löytyy samasta kansiosta kuin tämä muistio."
   ]
  },
  {
   "cell_type": "code",
   "execution_count": 2,
   "metadata": {
    "scrolled": true
   },
   "outputs": [],
   "source": [
    "import pandas as pd\n",
    "import seaborn as sns\n",
    "\n",
    "# Jos muuttujalla on ainutkertaisia arvoja yli RAJAn, niin muuttuja tulkitaan määrälliseksi\n",
    "# RAJA-arvoa voit tarvittaessa muuttaa\n",
    "RAJA = 10"
   ]
  },
  {
   "cell_type": "code",
   "execution_count": 3,
   "metadata": {},
   "outputs": [],
   "source": [
    "# Käytän tässä esimerkkinä seaborn-kirjaston esimerkkidatoja\n",
    "df = sns.load_dataset('tips')\n",
    "# Kokeile myös muilla datoilla, esimerkiksi 'taxis' tai 'penguins'"
   ]
  },
  {
   "cell_type": "code",
   "execution_count": 4,
   "metadata": {},
   "outputs": [],
   "source": [
    "# Alustavat toimet\n",
    "\n",
    "# Listat määrällisistä ja kategorisista muuttujista\n",
    "kvantit = []\n",
    "kategoriset = []\n",
    "for muuttuja in df:\n",
    "    if (len(df[muuttuja].unique())>RAJA) & (df[muuttuja].dtype in ['int64', 'float64']):\n",
    "        kvantit.append(muuttuja)\n",
    "    elif len(df[muuttuja].unique())<=RAJA:\n",
    "        kategoriset.append(muuttuja)\n",
    "\n",
    "# ExcelWriter-olio, joka osaa kirjoittaa pika.xlsx-tiedostoon\n",
    "# Voit halutessasi vaihtaa tiedoston nimen\n",
    "writer = pd.ExcelWriter('pika.xlsx', engine='xlsxwriter')\n",
    "\n",
    "# Muotoilut\n",
    "percent_format = writer.book.add_format({'num_format':'0.0 %'})\n",
    "header_format = writer.book.add_format({'bold': True, 'align': 'right', 'bottom': 1})\n",
    "title_format = writer.book.add_format({'bold': True, 'align': 'left', 'bottom':1})\n",
    "index_format = writer.book.add_format({'bold': True, 'align': 'left', 'border':0})\n",
    "\n",
    "# Frekvenssitaulukot \n",
    "\n",
    "if kategoriset:\n",
    "    # Pidän kirjaa Excelin rivinumerosta rivi-muuttujan avulla\n",
    "    rivi = 0\n",
    "    # Käyn for-silmukalla läpi kaikki kategoriset muuttujat\n",
    "    for muuttuja in kategoriset:\n",
    "        df1 = pd.crosstab(df[muuttuja], 'f')\n",
    "        df1['%'] = df1/df1.sum()\n",
    "        df1.loc['yhteensä'] = df1.sum()\n",
    "        # Kirjoitan frekvenssitaulukon Excel-tiedoston Frekvenssit-taulukkovälilehdelle\n",
    "        df1.to_excel(writer, sheet_name='Frekvenssit', startrow=rivi)\n",
    "                    \n",
    "        # Muotoilut\n",
    "        for col_num, value in enumerate(df1.columns.values):\n",
    "            writer.sheets['Frekvenssit'].write(rivi, col_num + 1, value, header_format)\n",
    "        for ind_num, value in enumerate(df1.index.values):\n",
    "            writer.sheets['Frekvenssit'].write(rivi+ind_num+1 , 0, value, index_format)\n",
    "        writer.sheets['Frekvenssit'].write(rivi, 0, muuttuja, title_format)\n",
    "    \n",
    "        # Kasvatan rivinumeroa; shape[0] antaa df1:n rivimäärän\n",
    "        rivi = rivi + df1.shape[0] + 2\n",
    "    \n",
    "    # Lisään C-sarakkeeseen prosenttimuotoilun\n",
    "    writer.sheets['Frekvenssit'].set_column('C:C', cell_format=percent_format)\n",
    "    \n",
    "# Ristiintaulukoinnit\n",
    "    \n",
    "if len(kategoriset) > 1:\n",
    "    rivi = 0\n",
    "    for muuttuja1 in kategoriset:\n",
    "        for muuttuja2 in kategoriset:\n",
    "            if muuttuja1 != muuttuja2:\n",
    "                df1 = pd.crosstab(df[muuttuja1], df[muuttuja2])\n",
    "                df2 = pd.crosstab(df[muuttuja1], df[muuttuja2], normalize='columns')\n",
    "                df2.index.name=muuttuja1+'/'+muuttuja2 \n",
    "                df2.loc['n'] = df1.sum()\n",
    "                df2.to_excel(writer, sheet_name='Ristiintaulukoinnit', startrow=rivi)\n",
    "                                \n",
    "                # Muotoilut\n",
    "                for col_num, value in enumerate(df2.columns.values):\n",
    "                    writer.sheets['Ristiintaulukoinnit'].write(rivi, col_num + 1, value, header_format)\n",
    "                for ind_num, value in enumerate(df2.index.values):\n",
    "                    writer.sheets['Ristiintaulukoinnit'].write(rivi+ind_num+1 , 0, value, index_format)\n",
    "                writer.sheets['Ristiintaulukoinnit'].write(rivi, 0, muuttuja1+'/'+muuttuja2, title_format)\n",
    "                for i in range(rivi+1, rivi+df2.shape[0]):\n",
    "                    writer.sheets['Ristiintaulukoinnit'].set_row(i, cell_format=percent_format)\n",
    "                \n",
    "                rivi = rivi+df2.shape[0]+2\n",
    "        \n",
    "# Tunnusluvut\n",
    "            \n",
    "if kvantit:\n",
    "    df1 = df[kvantit].describe()\n",
    "    df1.to_excel(writer, sheet_name='Tunnusluvut')\n",
    "    \n",
    "    # Muotoilut\n",
    "    for col_num, value in enumerate(df1.columns.values):\n",
    "        writer.sheets['Tunnusluvut'].write(0, col_num+1, value, header_format)\n",
    "    for ind_num, value in enumerate(df1.index.values):\n",
    "        writer.sheets['Tunnusluvut'].write(ind_num+1 , 0, value, index_format)\n",
    "    writer.sheets['Tunnusluvut'].write(0, 0, '', title_format)\n",
    "    \n",
    "    # Tunnusluvut kategoristen määräämissä ryhmissä\n",
    "    if kategoriset:\n",
    "        rivi = df1.shape[0]+2\n",
    "        for muuttuja1 in kategoriset:\n",
    "            for muuttuja2 in kvantit:\n",
    "                if muuttuja1 != muuttuja2:\n",
    "                    df1 = df.groupby(muuttuja1, observed=True)[muuttuja2].describe()\n",
    "                    df1.index.name = muuttuja1+'/'+muuttuja2\n",
    "                    df1.to_excel(writer, sheet_name='Tunnusluvut', startrow = rivi)\n",
    "                    \n",
    "                    # Muotoilut\n",
    "                    for col_num, value in enumerate(df1.columns.values):\n",
    "                        writer.sheets['Tunnusluvut'].write(rivi, col_num + 1, value, header_format)\n",
    "                    for ind_num, value in enumerate(df1.index.values):\n",
    "                        writer.sheets['Tunnusluvut'].write(rivi+ind_num+1 , 0, value, index_format)\n",
    "                    writer.sheets['Tunnusluvut'].write(rivi, 0, muuttuja1+'/'+muuttuja2, title_format)\n",
    "\n",
    "                    rivi = rivi + df1.shape[0]+2\n",
    "\n",
    "# Korrelaatiot                \n",
    "                \n",
    "if kvantit:\n",
    "    df1 = df[kvantit].corr()\n",
    "    df1.to_excel(writer, sheet_name='Korrelaatiot', float_format='%.3f')\n",
    "    \n",
    "    # Muotoilut\n",
    "    for col_num, value in enumerate(df1.columns.values):\n",
    "        writer.sheets['Korrelaatiot'].write(0, col_num + 1, value, header_format)\n",
    "    for ind_num, value in enumerate(df1.index.values):\n",
    "        writer.sheets['Korrelaatiot'].write(ind_num+1 , 0, value, index_format)\n",
    "    writer.sheets['Korrelaatiot'].write(rivi, 0, '', title_format)\n",
    "    \n",
    "\n",
    "# Excel-tiedoston tallennus\n",
    "writer.close()"
   ]
  },
  {
   "cell_type": "markdown",
   "metadata": {},
   "source": [
    "Taulukon otsikoiden muotoilu xlsxwriterilla on konstikasta. Katso https://xlsxwriter.readthedocs.io/working_with_pandas.html#formatting-of-the-dataframe-headers\n",
    "\n",
    "Lisätietoa Pythonin käytöstä data-analytiikassa https://tilastoapu.wordpress.com/python/"
   ]
  }
 ],
 "metadata": {
  "kernelspec": {
   "display_name": "Python 3 (ipykernel)",
   "language": "python",
   "name": "python3"
  },
  "language_info": {
   "codemirror_mode": {
    "name": "ipython",
    "version": 3
   },
   "file_extension": ".py",
   "mimetype": "text/x-python",
   "name": "python",
   "nbconvert_exporter": "python",
   "pygments_lexer": "ipython3",
   "version": "3.13.2"
  }
 },
 "nbformat": 4,
 "nbformat_minor": 4
}
