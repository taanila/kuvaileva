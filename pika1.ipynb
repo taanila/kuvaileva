{
 "cells": [
  {
   "cell_type": "code",
   "execution_count": 1,
   "metadata": {},
   "outputs": [
    {
     "name": "stdout",
     "output_type": "stream",
     "text": [
      "Päivitetty 2025-11-01 / Aki Taanila\n"
     ]
    }
   ],
   "source": [
    "from datetime import datetime\n",
    "print(f'Päivitetty {datetime.now().date()} / Aki Taanila')"
   ]
  },
  {
   "cell_type": "markdown",
   "metadata": {},
   "source": [
    "# Pika-analyysi Exceliin\n",
    "\n",
    "Frekvenssitaulukot, ristiintaulukoinnit, keskeiset tunnusluvut ja korrelaatiot Exceliin.\n",
    "\n",
    "Jos **xlwings**-kirjasto ei ole valmiiksi asennettu, niin voit asentaa sen komentorivillä (pääte/terminaali) komennolla `conda install xlwings`.\n",
    "\n",
    "Pika-analyysiä voit käyttää seuraavasti:\n",
    "\n",
    "* Avaa Exceliin analysoitava data ja valitse yksi solu datan alueelta\n",
    "* Siirry tähän muistioon ja suorita koodi\n",
    "* Koodin suorittamisen jälkeen tulokset löytyvät avoinna olevasta uudesta Excel-tiedostosta."
   ]
  },
  {
   "cell_type": "code",
   "execution_count": 2,
   "metadata": {
    "scrolled": true
   },
   "outputs": [],
   "source": [
    "import pandas as pd\n",
    "import xlwings as xw\n",
    "\n",
    "# Jos muuttujalla on ainutkertaisia arvoja yli RAJAn, niin muuttuja tulkitaan määrälliseksi\n",
    "# RAJA-arvoa voit tarvittaessa muuttaa\n",
    "RAJA = 10\n",
    "\n",
    "# Datan voi napata suoraan auki olevasta Excel-tiedostosta:\n",
    "df = xw.load(index=False)\n",
    "# Jos et halua datan ensimmäistä saraketta analyyseihin, niin käytä mieluummin komentoa:\n",
    "#df = xw.load()"
   ]
  },
  {
   "cell_type": "code",
   "execution_count": 3,
   "metadata": {},
   "outputs": [],
   "source": [
    "# Alustavat toimet\n",
    "\n",
    "# luodaan Listat määrällisistä ja kategorisista muuttujista\n",
    "kvantit = []\n",
    "kategoriset = []\n",
    "for muuttuja in df:\n",
    "    if (len(df[muuttuja].unique())>RAJA) & (df[muuttuja].dtype in ['int64', 'float64']):\n",
    "        kvantit.append(muuttuja)\n",
    "    elif len(df[muuttuja].unique())<=RAJA:\n",
    "        kategoriset.append(muuttuja)\n",
    "\n",
    "\n",
    "# Excelin valmistelu\n",
    "\n",
    "# Piilotettu Excel-instanssi\n",
    "app = xw.App(visible=False)\n",
    "\n",
    "# Taulukkovälilehdet Excelissä\n",
    "wb = app.books[0]\n",
    "ws1= wb.sheets.active\n",
    "ws1.name = 'frekvenssitaulukot'\n",
    "ws2 = wb.sheets.add('ristiintaulukoinnit', after=wb.sheets.count)\n",
    "ws3 = wb.sheets.add('tunnusluvut', after=wb.sheets.count)\n",
    "ws4 = wb.sheets.add('korrelaatiot', after=wb.sheets.count)"
   ]
  },
  {
   "cell_type": "code",
   "execution_count": 4,
   "metadata": {},
   "outputs": [],
   "source": [
    "# Frekvenssitaulukot\n",
    "\n",
    "if kategoriset:\n",
    "    # Pidän kirjaa Excelin rivinumerosta rivi-muuttujan avulla\n",
    "    rivi = 1\n",
    "    sarake = 1\n",
    "    # Käyn for-silmukalla läpi kaikki kategoriset muuttujat\n",
    "    for muuttuja in kategoriset:\n",
    "        # Lasken frekvenssit df1-nimiseen dataframeen\n",
    "        df1 = pd.crosstab(df[muuttuja], 'f')\n",
    "        # Lasken df1:een prosentit\n",
    "        df1['%'] = df1/df1.sum()\n",
    "        # Lisään df1:een Yhteensä-rivin\n",
    "        df1.loc['Kaikki'] = df1.sum()\n",
    "        \n",
    "        # Kirjoitan frekvenssitaulukon Excel-tiedoston Frekvenssit-taulukkovälilehdelle\n",
    "        ws1.range((rivi, sarake)).value = df1\n",
    "        \n",
    "        # Muotoilut\n",
    "        ws1.range((rivi+1, sarake+2),(rivi+len(df1), sarake+2)).number_format = '0,0 %'\n",
    "        ws1.range((rivi, sarake+1), (rivi, sarake+2)).api.HorizontalAlignment = -4152\n",
    "        ws1.range((rivi, sarake), (rivi, sarake+2)).api.Borders(9).Weight = 2\n",
    "        ws1.range((rivi+len(df1)-1, sarake), (rivi+len(df1)-1, sarake+2)).api.Borders(9).Weight = 2\n",
    "        \n",
    "        # Kasvatan rivinumeroa; shape[0] antaa df1:n rivimäärän\n",
    "        rivi = rivi+df1.shape[0]+2"
   ]
  },
  {
   "cell_type": "code",
   "execution_count": 5,
   "metadata": {},
   "outputs": [],
   "source": [
    "# Ristiintaulukoinnit\n",
    "    \n",
    "if len(kategoriset) > 1:\n",
    "    rivi = 1\n",
    "    sarake = 1\n",
    "    for muuttuja1 in kategoriset:\n",
    "        for muuttuja2 in kategoriset:\n",
    "            if muuttuja1 != muuttuja2:\n",
    "                df1 = pd.crosstab(df[muuttuja1], df[muuttuja2])\n",
    "                df2 = pd.crosstab(df[muuttuja1], df[muuttuja2], normalize='columns')\n",
    "                df2.index.name = muuttuja1+'/'+muuttuja2 \n",
    "                df2.loc['n'] = df1.sum()\n",
    "                \n",
    "                # Kirjoitan ristiintaulukoinnin Exceliin\n",
    "                ws2.range((rivi, sarake)).value = df2\n",
    "                \n",
    "                # Muotoilut\n",
    "                ws2.range((rivi+1, sarake+1),(rivi+len(df1), sarake+df1.shape[1])).number_format = '0,0 %'\n",
    "                ws2.range((rivi, sarake+1), (rivi, sarake+df1.shape[1])).api.HorizontalAlignment = -4152\n",
    "                ws2.range((rivi, sarake), (rivi, sarake+df1.shape[1])).api.Borders(9).Weight = 2\n",
    "                ws2.range((rivi+len(df1), sarake), (rivi+len(df1), sarake+df1.shape[1])).api.Borders(9).Weight = 2\n",
    "                                    \n",
    "                # Kasvatan rivinumeroa\n",
    "                rivi = rivi+df2.shape[0]+2"
   ]
  },
  {
   "cell_type": "code",
   "execution_count": 6,
   "metadata": {},
   "outputs": [],
   "source": [
    "# Tunnusluvut\n",
    "\n",
    "# Tunnusluvut suomeksi\n",
    "tunnusluvut = ['Lukumäärä', 'Keskiarvo', 'Keskihajonta', 'Pienin', \n",
    "              'Alaneljännes', 'Mediaani', 'Yläneljännes', 'Suurin']\n",
    "            \n",
    "if kvantit:\n",
    "    rivi = 1\n",
    "    sarake = 1\n",
    "    df1 = df[kvantit].describe()\n",
    "    \n",
    "    # Tunnusluvut suomeksi\n",
    "    df1.index = tunnusluvut\n",
    "    \n",
    "    # Kirjoitan taulukon Exceliin\n",
    "    ws3.range(rivi, sarake).value = df1\n",
    "\n",
    "    # Sarakeleveyden säätö\n",
    "    ws3.range('A:A').autofit()\n",
    "\n",
    "    # Muotoilut\n",
    "    ws3.range((rivi+2, sarake+1),(rivi+len(df1), sarake+df1.shape[1])).number_format = '0,0'\n",
    "    ws3.range((rivi, sarake+1), (rivi, sarake+df1.shape[1])).api.HorizontalAlignment = -4152\n",
    "    ws3.range((rivi, sarake), (rivi, sarake+df1.shape[1])).api.Borders(9).Weight = 2\n",
    "    ws3.range((rivi+len(df1), sarake), (rivi+len(df1), sarake+df1.shape[1])).api.Borders(9).Weight = 2\n",
    "\n",
    "    \n",
    "# Tunnusluvut kategoristen määräämissä ryhmissä\n",
    "\n",
    "if kategoriset:\n",
    "    rivi = df1.shape[0]+3\n",
    "    for muuttuja1 in kategoriset:\n",
    "        for muuttuja2 in kvantit:\n",
    "            if muuttuja1 != muuttuja2:\n",
    "                df1 = df.groupby(muuttuja1)[muuttuja2].describe()\n",
    "                \n",
    "                # Tunnusluvut suomeksi\n",
    "                df1.columns = tunnusluvut\n",
    "                \n",
    "                df1.index.name = muuttuja1+'/'+muuttuja2\n",
    "                    \n",
    "                # Kirjoitan taulukon Exceliin\n",
    "                ws3.range(rivi, sarake).value = df1\n",
    "                \n",
    "                # Muotoilut\n",
    "                ws3.range((rivi+1, sarake+2),(rivi+len(df1), sarake+df1.shape[1])).number_format = '0,0'\n",
    "                ws3.range((rivi, sarake+1), (rivi, sarake+df1.shape[1])).api.HorizontalAlignment = -4152\n",
    "                ws3.range((rivi, sarake), (rivi, sarake+df1.shape[1])).api.Borders(9).Weight = 2\n",
    "                ws3.range((rivi+len(df1), sarake), (rivi+len(df1), sarake+df1.shape[1])).api.Borders(9).Weight = 2\n",
    "                    \n",
    "                # Kasvatan rivinumeroa\n",
    "                rivi = rivi+df1.shape[0]+2\n",
    "\n",
    "# Sarakeleveyksie säätöä\n",
    "ws3.range('B:I').column_width = 11"
   ]
  },
  {
   "cell_type": "code",
   "execution_count": 7,
   "metadata": {},
   "outputs": [],
   "source": [
    "# Korrelaatiot                \n",
    "                \n",
    "if kvantit:\n",
    "    rivi = 1\n",
    "    range = 1\n",
    "    df1 = df[kvantit].corr()\n",
    "    \n",
    "    # Kirjoitan taulukon Exceliin\n",
    "    ws4.range(rivi, sarake).value = df1\n",
    "    \n",
    "    # Muotoilut\n",
    "    ws4.range((rivi+1, sarake+1),(rivi+len(df1), sarake+df1.shape[1])).number_format = '0,000'\n",
    "    ws4.range((rivi, sarake+1), (rivi, sarake+df1.shape[1])).api.HorizontalAlignment = -4152\n",
    "    ws4.range((rivi, sarake), (rivi, sarake+df1.shape[1])).api.Borders(9).Weight = 2\n",
    "    ws4.range((rivi+len(df1), sarake), (rivi+len(df1), sarake+df1.shape[1])).api.Borders(9).Weight = 2"
   ]
  },
  {
   "cell_type": "code",
   "execution_count": 8,
   "metadata": {},
   "outputs": [],
   "source": [
    "# Excel-instanssi näkyville\n",
    "ws1.activate()\n",
    "app.visible = True"
   ]
  },
  {
   "cell_type": "markdown",
   "metadata": {},
   "source": [
    "Lisätietoa Pythonin käytöstä data-analytiikassa https://tilastoapu.wordpress.com/python/"
   ]
  }
 ],
 "metadata": {
  "kernelspec": {
   "display_name": "Python 3 (ipykernel)",
   "language": "python",
   "name": "python3"
  },
  "language_info": {
   "codemirror_mode": {
    "name": "ipython",
    "version": 3
   },
   "file_extension": ".py",
   "mimetype": "text/x-python",
   "name": "python",
   "nbconvert_exporter": "python",
   "pygments_lexer": "ipython3",
   "version": "3.13.2"
  }
 },
 "nbformat": 4,
 "nbformat_minor": 4
}
