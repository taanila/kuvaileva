{
 "cells": [
  {
   "cell_type": "code",
   "execution_count": 1,
   "metadata": {},
   "outputs": [
    {
     "name": "stdout",
     "output_type": "stream",
     "text": [
      "Päivitetty 2022-10-26 19:03:22.681364\n"
     ]
    }
   ],
   "source": [
    "from datetime import datetime\n",
    "print(f'Päivitetty {datetime.now()}')"
   ]
  },
  {
   "cell_type": "markdown",
   "metadata": {},
   "source": [
    "# Ristiintaulukoinnit Exceliin\n",
    "\n",
    "Datan tilalla voi käyttää mitä tahansa oikeaoppisesti tallennettua dataa."
   ]
  },
  {
   "cell_type": "code",
   "execution_count": 2,
   "metadata": {},
   "outputs": [],
   "source": [
    "import pandas as pd\n",
    "\n",
    "# Excelin ohjaukseen\n",
    "import xlwings as xw\n",
    "\n",
    "# Jos ainutkertaisia arvoja enemmän kuin RAJA, niin ei tulkita kategoriseksi\n",
    "RAJA = 10\n",
    "\n",
    "# Avaan datan\n",
    "df = pd.read_excel('http://taanila.fi/data1.xlsx')"
   ]
  },
  {
   "cell_type": "code",
   "execution_count": 3,
   "metadata": {},
   "outputs": [],
   "source": [
    "# Lista kategorisista muuttujista\n",
    "kategoriset = []\n",
    "for var in df:\n",
    "    if len(df[var].unique()) <= RAJA:\n",
    "        kategoriset.append(var)\n",
    "\n",
    "if kategoriset:\n",
    "    # Excel-työkirja (workbook)\n",
    "    app = xw.App(visible=False)\n",
    "    wb = xw.books.active\n",
    "    \n",
    "    # Taulukkovälilehden nimeäminen\n",
    "    ws1 = wb.sheets.active\n",
    "    ws1.name = 'ristiintaulukoinnit'\n",
    "        \n",
    "    # Pidän kirjaa rivinumerosta rivi-muuttujan avulla\n",
    "    rivi = 4\n",
    "\n",
    "# for-silmukoilla käyn läpi kaikki muuttujaparit\n",
    "    for var1 in kategoriset:\n",
    "        for var2 in kategoriset:\n",
    "            if var1 != var2:\n",
    "                df1 = pd.crosstab(df[var1], df[var2], margins=True)\n",
    "                df2 = pd.crosstab(df[var1], df[var2], normalize='columns')\n",
    "                df2.loc['n'] = df1.loc['All']\n",
    "                ws1.range(rivi, 2).value = var2\n",
    "                ws1.range(rivi, df1.shape[1] + 4).value = var2\n",
    "                ws1.range(rivi+1, 1).value = df1\n",
    "                ws1.range(rivi+1, df1.shape[1]+1).value = 'yhteensä'\n",
    "                ws1.range(rivi+df1.shape[0]+1, 1).value = 'yhteensä'\n",
    "                ws1.range((rivi+1, df1.shape[1]+3)).value = df2\n",
    "                ws1.range((rivi+2, df1.shape[1]+4),(rivi+df2.shape[0], \n",
    "                df1.shape[1]+3+df2.shape[1])).number_format = '0,0 %'\n",
    "                rivi = rivi + df2.shape[0] + 3\n",
    "    ws1.range(1, 1).value = 'Ristiintaulukoinnit kategorisille muuttujille'\n",
    "    ws1.range(2, 1).value = \\\n",
    "        'Prosentit ovat prosentteja sarakkeen kokonaismäärästä (n)'\n",
    "    ws1.range((1, 1), (2, 1)).font.bold = True\n",
    "    \n",
    "# Näytetään Excel\n",
    "app.visible = True"
   ]
  },
  {
   "cell_type": "markdown",
   "metadata": {},
   "source": [
    "Lisätietoa Pythonin käytöstä data-analytiikassa https://tilastoapu.wordpress.com/python/"
   ]
  }
 ],
 "metadata": {
  "kernelspec": {
   "display_name": "Python 3 (ipykernel)",
   "language": "python",
   "name": "python3"
  },
  "language_info": {
   "codemirror_mode": {
    "name": "ipython",
    "version": 3
   },
   "file_extension": ".py",
   "mimetype": "text/x-python",
   "name": "python",
   "nbconvert_exporter": "python",
   "pygments_lexer": "ipython3",
   "version": "3.10.6"
  }
 },
 "nbformat": 4,
 "nbformat_minor": 2
}
