{
 "cells": [
  {
   "cell_type": "code",
   "execution_count": 1,
   "id": "fb79d60c",
   "metadata": {},
   "outputs": [
    {
     "name": "stdout",
     "output_type": "stream",
     "text": [
      "Päivitetty 2023-04-30 / Aki Taanila\n"
     ]
    }
   ],
   "source": [
    "from datetime import datetime\n",
    "print(f'Päivitetty {datetime.now().date()} / Aki Taanila')"
   ]
  },
  {
   "cell_type": "markdown",
   "id": "41493c87",
   "metadata": {},
   "source": [
    "# Kuvaileva analytiikka - parhaat käytänteet\n",
    "\n",
    "Oletan, että muistion https://nbviewer.org/github/taanila/kuvaileva/blob/main/pandas1.ipynb sisältö on lukijalle tuttu.\n",
    "\n",
    "Tässä muistiossa käytän seuraavia funktioita laskentaan:\n",
    "\n",
    "* **crosstab** frekvenssitaulukon laskemiseen \n",
    "* **cut** määrällisen muuttujan luokitteluun\n",
    "* **count** lukumäärän laskemiseen\n",
    "* **sum** summan laskemiseen\n",
    "* **mean** keskiarvon laskemiseen\n",
    "* **describe** tilastollisten tunnuslukujen laskemiseen\n",
    "\n",
    "Tässä muistiossa käytän seuraavia funktioita kaavioiden luontiin:\n",
    "\n",
    "* **plot.bar** pystypylväskaavio\n",
    "* **barplot** seaborn-kirjaston pylväskaavio, joka esittää oletuksena keskiarvot, mutta keskiarvon sijasta voin käyttää muitakin funktioita (esimerkiksi **sum**)\n",
    "* **countplot** seaborn-kirjaston pylväskaavio, joka esittää lukumääriä\n",
    "* **histplot** seaborn-kirjaston histogrammi, joka esittää luokitellun jakauman\n",
    "* **boxplot** seaborn-kirjaston kaavio, joka esittää viiden luvun yhteenvedon\n",
    "* **subplots** useita kaavioita sisältävän kuvion luonti\n",
    "\n",
    "Käytän muotoiltuja merkijonoja (**f-string**). F-string alkaa f-kirjaimella, jota seuraa merkkijono. Merkkijonon sisällä voin käyttää Pythonin muuttujien arvoja ja laskukaavoja aaltosulkujen sisällä; esimerkiksi `f'Alennettu hinta {0.90*hinta}'`. Jos viittaan datan muuttujaan f-stringin sisällä, niin käytän muuttujan ympärillä heittomerkkien sijasta lainausmerkkejä, esimerkiksi `f'lukumäärä (n = {df[\"ikä\"].count()})'`. \n",
    "\n",
    "\n",
    "\n",
    "## Alkuvalmistelut"
   ]
  },
  {
   "cell_type": "code",
   "execution_count": 2,
   "id": "8f8f22d2",
   "metadata": {},
   "outputs": [],
   "source": [
    "import pandas as pd\n",
    "\n",
    "# Grafiikkaa varten\n",
    "import matplotlib.pyplot as plt\n",
    "import seaborn as sns\n",
    "sns.set_style('whitegrid')\n",
    "\n",
    "# Kaavioiden prosenttiakselin muotoiluun\n",
    "from matplotlib.ticker import PercentFormatter\n",
    "ticks = PercentFormatter(xmax=100, decimals=0, symbol=' %')\n",
    "\n",
    "# Sanakirja taulukoiden muotoiluun\n",
    "# f-sarakkeeseen 0 desimaalia, %-sarakkeeseen 1 desimaali\n",
    "format = {'f':'{:.0f}', '%':'{:.1f} %'}"
   ]
  },
  {
   "cell_type": "code",
   "execution_count": 3,
   "id": "5caa23ee",
   "metadata": {},
   "outputs": [],
   "source": [
    "df = pd.read_excel('https://taanila.fi/data1.xlsx')\n",
    "\n",
    "# Muuttujien tekstimuotoisia arvoja listoina\n",
    "sukup = ['mies', 'nainen']\n",
    "koulutus = ['peruskoulu', '2. aste', 'korkeakoulu', 'ylempi korkeakoulu']\n",
    "tyytyväisyys = ['erittäin tyytymätön', 'tyytymätön', 'siltä väliltä', \n",
    "                'tyytyväinen', 'erittäin tyytyväinen']"
   ]
  },
  {
   "cell_type": "markdown",
   "id": "0a83e68f",
   "metadata": {},
   "source": [
    "## Frekvenssitaulukko kategoriselle muuttujalle"
   ]
  },
  {
   "cell_type": "code",
   "execution_count": 4,
   "id": "ace53498",
   "metadata": {},
   "outputs": [
    {
     "data": {
      "text/html": [
       "<style type=\"text/css\">\n",
       "</style>\n",
       "<table id=\"T_80b3b\">\n",
       "  <thead>\n",
       "    <tr>\n",
       "      <th class=\"index_name level0\" ></th>\n",
       "      <th id=\"T_80b3b_level0_col0\" class=\"col_heading level0 col0\" >f</th>\n",
       "      <th id=\"T_80b3b_level0_col1\" class=\"col_heading level0 col1\" >%</th>\n",
       "    </tr>\n",
       "  </thead>\n",
       "  <tbody>\n",
       "    <tr>\n",
       "      <th id=\"T_80b3b_level0_row0\" class=\"row_heading level0 row0\" >peruskoulu</th>\n",
       "      <td id=\"T_80b3b_row0_col0\" class=\"data row0 col0\" >27</td>\n",
       "      <td id=\"T_80b3b_row0_col1\" class=\"data row0 col1\" >33.3 %</td>\n",
       "    </tr>\n",
       "    <tr>\n",
       "      <th id=\"T_80b3b_level0_row1\" class=\"row_heading level0 row1\" >2. aste</th>\n",
       "      <td id=\"T_80b3b_row1_col0\" class=\"data row1 col0\" >30</td>\n",
       "      <td id=\"T_80b3b_row1_col1\" class=\"data row1 col1\" >37.0 %</td>\n",
       "    </tr>\n",
       "    <tr>\n",
       "      <th id=\"T_80b3b_level0_row2\" class=\"row_heading level0 row2\" >korkeakoulu</th>\n",
       "      <td id=\"T_80b3b_row2_col0\" class=\"data row2 col0\" >22</td>\n",
       "      <td id=\"T_80b3b_row2_col1\" class=\"data row2 col1\" >27.2 %</td>\n",
       "    </tr>\n",
       "    <tr>\n",
       "      <th id=\"T_80b3b_level0_row3\" class=\"row_heading level0 row3\" >ylempi korkeakoulu</th>\n",
       "      <td id=\"T_80b3b_row3_col0\" class=\"data row3 col0\" >2</td>\n",
       "      <td id=\"T_80b3b_row3_col1\" class=\"data row3 col1\" >2.5 %</td>\n",
       "    </tr>\n",
       "  </tbody>\n",
       "</table>\n"
      ],
      "text/plain": [
       "<pandas.io.formats.style.Styler at 0x1f55bace890>"
      ]
     },
     "execution_count": 4,
     "metadata": {},
     "output_type": "execute_result"
    }
   ],
   "source": [
    "df1 = pd.crosstab(df['koulutus'], 'f')\n",
    "\n",
    "df1.columns.name = ''\n",
    "df1.index = koulutus\n",
    "df1['%'] = df1['f']/df1['f'].sum()*100\n",
    "\n",
    "# Näytetään taulukko muotoiltuna\n",
    "df1.style.format(format)"
   ]
  },
  {
   "cell_type": "markdown",
   "id": "5b885e8a",
   "metadata": {},
   "source": [
    "## Frekvenssien graafinen esittäminen"
   ]
  },
  {
   "cell_type": "code",
   "execution_count": 5,
   "id": "010b79cb",
   "metadata": {},
   "outputs": [
    {
     "data": {
      "image/png": "[encoded data removed]",
      "text/plain": [
       "<Figure size 640x480 with 1 Axes>"
      ]
     },
     "metadata": {},
     "output_type": "display_data"
    }
   ],
   "source": [
    "# Pystypylväskaavio frekvenssitaulukon frekvensseistä\n",
    "df1['f'].plot.bar(width=0.8, rot=0)\n",
    "\n",
    "# y-akselin otsikko\n",
    "plt.ylabel(f'lukumäärä (n = {df1[\"f\"].sum()})')\n",
    "\n",
    "# poistetaan whitegrid-tyylin tuoma x-akselilta lähtevä pystyviivoitus\n",
    "plt.grid(axis='x')"
   ]
  },
  {
   "cell_type": "markdown",
   "id": "486cfdda",
   "metadata": {},
   "source": [
    "## Frekvenssiprosenttien graafinen esittäminen"
   ]
  },
  {
   "cell_type": "code",
   "execution_count": 6,
   "id": "7bd44af8",
   "metadata": {},
   "outputs": [
    {
     "data": {
      "image/png": "[encoded data removed]",
      "text/plain": [
       "<Figure size 640x480 with 1 Axes>"
      ]
     },
     "metadata": {},
     "output_type": "display_data"
    }
   ],
   "source": [
    "# Kaavio frekvenssitaulukon prosenteista\n",
    "df1['%'].plot.bar(width=0.8, rot=0)\n",
    "\n",
    "plt.ylabel(f'prosenttia (n = {df1[\"f\"].sum()})')\n",
    "\n",
    "# y-akselin lukujen muotoilu prosenteiksi\n",
    "# gca() (get current axis) viittaa luotuun kaavioon\n",
    "plt.gca().yaxis.set_major_formatter(ticks)\n",
    "\n",
    "plt.grid(axis='x')"
   ]
  },
  {
   "cell_type": "markdown",
   "id": "646fe443",
   "metadata": {},
   "source": [
    "## Frekvenssit dikotomisille (dummy) muuttujille\n",
    "\n",
    "Datan muuttujat *työterv*, *lomaosa*, *kuntosa* ja *hieroja* ovat dikotomisia (onko käyttänyt kyseistä etuutta?). Arvo 1 tarkoittaa etuuden käyttöä ja ykkösten summana saadaan käyttäjien lukumäärä."
   ]
  },
  {
   "cell_type": "code",
   "execution_count": 7,
   "id": "7ae630c4",
   "metadata": {},
   "outputs": [
    {
     "data": {
      "text/html": [
       "<style type=\"text/css\">\n",
       "</style>\n",
       "<table id=\"T_9badc\">\n",
       "  <thead>\n",
       "    <tr>\n",
       "      <th class=\"blank level0\" >&nbsp;</th>\n",
       "      <th id=\"T_9badc_level0_col0\" class=\"col_heading level0 col0\" >f</th>\n",
       "      <th id=\"T_9badc_level0_col1\" class=\"col_heading level0 col1\" >%</th>\n",
       "    </tr>\n",
       "  </thead>\n",
       "  <tbody>\n",
       "    <tr>\n",
       "      <th id=\"T_9badc_level0_row0\" class=\"row_heading level0 row0\" >työterv</th>\n",
       "      <td id=\"T_9badc_row0_col0\" class=\"data row0 col0\" >47</td>\n",
       "      <td id=\"T_9badc_row0_col1\" class=\"data row0 col1\" >57.3 %</td>\n",
       "    </tr>\n",
       "    <tr>\n",
       "      <th id=\"T_9badc_level0_row1\" class=\"row_heading level0 row1\" >hieroja</th>\n",
       "      <td id=\"T_9badc_row1_col0\" class=\"data row1 col0\" >22</td>\n",
       "      <td id=\"T_9badc_row1_col1\" class=\"data row1 col1\" >26.8 %</td>\n",
       "    </tr>\n",
       "    <tr>\n",
       "      <th id=\"T_9badc_level0_row2\" class=\"row_heading level0 row2\" >lomaosa</th>\n",
       "      <td id=\"T_9badc_row2_col0\" class=\"data row2 col0\" >20</td>\n",
       "      <td id=\"T_9badc_row2_col1\" class=\"data row2 col1\" >24.4 %</td>\n",
       "    </tr>\n",
       "    <tr>\n",
       "      <th id=\"T_9badc_level0_row3\" class=\"row_heading level0 row3\" >kuntosa</th>\n",
       "      <td id=\"T_9badc_row3_col0\" class=\"data row3 col0\" >9</td>\n",
       "      <td id=\"T_9badc_row3_col1\" class=\"data row3 col1\" >11.0 %</td>\n",
       "    </tr>\n",
       "  </tbody>\n",
       "</table>\n"
      ],
      "text/plain": [
       "<pandas.io.formats.style.Styler at 0x1f55c686950>"
      ]
     },
     "execution_count": 7,
     "metadata": {},
     "output_type": "execute_result"
    }
   ],
   "source": [
    "dikot = ['työterv', 'lomaosa', 'kuntosa', 'hieroja']\n",
    "\n",
    "# summat dataframeen ja lopuksi järjestäminen lukumäärän mukaan\n",
    "df2 = df[dikot].sum().to_frame('f').sort_values('f', ascending=False)\n",
    "\n",
    "# Prosentit lasketaan vastaajien lukumäärästä (datan rivien määrä)\n",
    "df2['%'] = df2['f']/df.shape[0]*100\n",
    "\n",
    "df2.style.format(format)"
   ]
  },
  {
   "cell_type": "code",
   "execution_count": 8,
   "id": "4756f89e",
   "metadata": {},
   "outputs": [
    {
     "data": {
      "text/plain": [
       "Text(0, 0.5, 'lukumäärä')"
      ]
     },
     "execution_count": 8,
     "metadata": {},
     "output_type": "execute_result"
    },
    {
     "data": {
      "image/png": "[encoded data removed]",
      "text/plain": [
       "<Figure size 640x480 with 1 Axes>"
      ]
     },
     "metadata": {},
     "output_type": "display_data"
    }
   ],
   "source": [
    "# Muuttujien lista frekvenssien mukaisessa järjestyksessä\n",
    "list = df[dikot].sum().sort_values(ascending=False).index\n",
    "\n",
    "# Seaborn kaaviot tehdään suoraan alkuperäisestä datasta, \n",
    "# joten edellisessä solussa laskettua taulukkoa ei tarvita\n",
    "# fillna-funktio korvaa puuttuvat arvot nollilla\n",
    "sns.barplot(data=df[list].fillna(0), estimator=sum)\n",
    "\n",
    "plt.ylabel('lukumäärä')"
   ]
  },
  {
   "cell_type": "markdown",
   "id": "05347321",
   "metadata": {},
   "source": [
    "## Puuttuvat havainnot\n",
    "\n",
    "Muuttuja *työtov* (tyytyväisyys työtovereihin) mitattiin 5-portaisella asteikolla (1=erittäin tyytymätön, 5=erittäin tyytyväinen). Yhdeltä henkilöltä puuttui vastaus tähän kysymykseen. Kokonaislukutyyppiselle muuttujalla (int) ei sallita puuttuvia arvoja, joten tämä muuttuja on liukulukutyyppinen (float) toisin kuin muut tyytyväisyysmuuttujat. Tämä ei yleensä analysoinnin kannalta aiheuta mitään ongelmia eikä sitä mitenkään erikseen tarvitse huomioida.\n",
    "\n",
    "Huomiota vaativa ongelma on se, että kukaan ei ollut *erittäin tyytymätön* työtovereihin eli vastausvaihtoehtoa 1 ei ole kukaan valinnut. Se puuttuu myös frekvenssitaulukosta. Olisi kuitenkin hyvä näyttää kyseinen vaihtoehto frekvenssitaulukossa.\n",
    "\n",
    "Tämä onnistuu vaihtamalla muuttujan tyypiksi **category**."
   ]
  },
  {
   "cell_type": "code",
   "execution_count": 9,
   "id": "db7e69d1",
   "metadata": {},
   "outputs": [
    {
     "data": {
      "text/html": [
       "<style type=\"text/css\">\n",
       "</style>\n",
       "<table id=\"T_056d6\">\n",
       "  <thead>\n",
       "    <tr>\n",
       "      <th class=\"index_name level0\" ></th>\n",
       "      <th id=\"T_056d6_level0_col0\" class=\"col_heading level0 col0\" >f</th>\n",
       "      <th id=\"T_056d6_level0_col1\" class=\"col_heading level0 col1\" >%</th>\n",
       "    </tr>\n",
       "    <tr>\n",
       "      <th class=\"index_name level0\" >työtov</th>\n",
       "      <th class=\"blank col0\" >&nbsp;</th>\n",
       "      <th class=\"blank col1\" >&nbsp;</th>\n",
       "    </tr>\n",
       "  </thead>\n",
       "  <tbody>\n",
       "    <tr>\n",
       "      <th id=\"T_056d6_level0_row0\" class=\"row_heading level0 row0\" >2.000000</th>\n",
       "      <td id=\"T_056d6_row0_col0\" class=\"data row0 col0\" >3</td>\n",
       "      <td id=\"T_056d6_row0_col1\" class=\"data row0 col1\" >3.7 %</td>\n",
       "    </tr>\n",
       "    <tr>\n",
       "      <th id=\"T_056d6_level0_row1\" class=\"row_heading level0 row1\" >3.000000</th>\n",
       "      <td id=\"T_056d6_row1_col0\" class=\"data row1 col0\" >16</td>\n",
       "      <td id=\"T_056d6_row1_col1\" class=\"data row1 col1\" >19.8 %</td>\n",
       "    </tr>\n",
       "    <tr>\n",
       "      <th id=\"T_056d6_level0_row2\" class=\"row_heading level0 row2\" >4.000000</th>\n",
       "      <td id=\"T_056d6_row2_col0\" class=\"data row2 col0\" >35</td>\n",
       "      <td id=\"T_056d6_row2_col1\" class=\"data row2 col1\" >43.2 %</td>\n",
       "    </tr>\n",
       "    <tr>\n",
       "      <th id=\"T_056d6_level0_row3\" class=\"row_heading level0 row3\" >5.000000</th>\n",
       "      <td id=\"T_056d6_row3_col0\" class=\"data row3 col0\" >27</td>\n",
       "      <td id=\"T_056d6_row3_col1\" class=\"data row3 col1\" >33.3 %</td>\n",
       "    </tr>\n",
       "  </tbody>\n",
       "</table>\n"
      ],
      "text/plain": [
       "<pandas.io.formats.style.Styler at 0x1f55c69eb30>"
      ]
     },
     "execution_count": 9,
     "metadata": {},
     "output_type": "execute_result"
    }
   ],
   "source": [
    "# Tässä ei näy arvoa 1.0 (erittäin tyytymätön), koska kukaan ei sitä valinnut\n",
    "df3 = pd.crosstab(df['työtov'], 'f')\n",
    "\n",
    "df3.columns.name = ''\n",
    "df3['%'] = df3['f']/df3['f'].sum()*100\n",
    "\n",
    "df3.style.format(format)"
   ]
  },
  {
   "cell_type": "code",
   "execution_count": 10,
   "id": "d5d1f2c2",
   "metadata": {},
   "outputs": [],
   "source": [
    "# Teen uuden muuttujan, jonka tyyppi on category\n",
    "df['työtov_cat'] = pd.Categorical(df['työtov'], categories=[1, 2, 3, 4, 5], ordered=True)"
   ]
  },
  {
   "cell_type": "code",
   "execution_count": 11,
   "id": "7124dca6",
   "metadata": {},
   "outputs": [
    {
     "data": {
      "text/html": [
       "<style type=\"text/css\">\n",
       "</style>\n",
       "<table id=\"T_79db3\">\n",
       "  <thead>\n",
       "    <tr>\n",
       "      <th class=\"index_name level0\" ></th>\n",
       "      <th id=\"T_79db3_level0_col0\" class=\"col_heading level0 col0\" >f</th>\n",
       "      <th id=\"T_79db3_level0_col1\" class=\"col_heading level0 col1\" >%</th>\n",
       "    </tr>\n",
       "  </thead>\n",
       "  <tbody>\n",
       "    <tr>\n",
       "      <th id=\"T_79db3_level0_row0\" class=\"row_heading level0 row0\" >erittäin tyytymätön</th>\n",
       "      <td id=\"T_79db3_row0_col0\" class=\"data row0 col0\" >0</td>\n",
       "      <td id=\"T_79db3_row0_col1\" class=\"data row0 col1\" >0.0 %</td>\n",
       "    </tr>\n",
       "    <tr>\n",
       "      <th id=\"T_79db3_level0_row1\" class=\"row_heading level0 row1\" >tyytymätön</th>\n",
       "      <td id=\"T_79db3_row1_col0\" class=\"data row1 col0\" >3</td>\n",
       "      <td id=\"T_79db3_row1_col1\" class=\"data row1 col1\" >3.7 %</td>\n",
       "    </tr>\n",
       "    <tr>\n",
       "      <th id=\"T_79db3_level0_row2\" class=\"row_heading level0 row2\" >siltä väliltä</th>\n",
       "      <td id=\"T_79db3_row2_col0\" class=\"data row2 col0\" >16</td>\n",
       "      <td id=\"T_79db3_row2_col1\" class=\"data row2 col1\" >19.8 %</td>\n",
       "    </tr>\n",
       "    <tr>\n",
       "      <th id=\"T_79db3_level0_row3\" class=\"row_heading level0 row3\" >tyytyväinen</th>\n",
       "      <td id=\"T_79db3_row3_col0\" class=\"data row3 col0\" >35</td>\n",
       "      <td id=\"T_79db3_row3_col1\" class=\"data row3 col1\" >43.2 %</td>\n",
       "    </tr>\n",
       "    <tr>\n",
       "      <th id=\"T_79db3_level0_row4\" class=\"row_heading level0 row4\" >erittäin tyytyväinen</th>\n",
       "      <td id=\"T_79db3_row4_col0\" class=\"data row4 col0\" >27</td>\n",
       "      <td id=\"T_79db3_row4_col1\" class=\"data row4 col1\" >33.3 %</td>\n",
       "    </tr>\n",
       "  </tbody>\n",
       "</table>\n"
      ],
      "text/plain": [
       "<pandas.io.formats.style.Styler at 0x1f5592bd9f0>"
      ]
     },
     "execution_count": 11,
     "metadata": {},
     "output_type": "execute_result"
    }
   ],
   "source": [
    "# dropna-parametrin ansiosta myös 'erittäin tyytymätön' tulee frekvenssitaulukkoon mukaan\n",
    "df4 = pd.crosstab(df['työtov_cat'], 'f', dropna=False)\n",
    "\n",
    "df4.columns.name = ''\n",
    "df4.index = tyytyväisyys\n",
    "df4['%'] = df4['f']/df4['f'].sum()*100\n",
    "\n",
    "df4.style.format(format)"
   ]
  },
  {
   "cell_type": "code",
   "execution_count": 12,
   "id": "2bd09ce8",
   "metadata": {},
   "outputs": [
    {
     "data": {
      "image/png": "[encoded data removed]",
      "text/plain": [
       "<Figure size 640x480 with 1 Axes>"
      ]
     },
     "metadata": {},
     "output_type": "display_data"
    }
   ],
   "source": [
    "# Kaavio frekvenssitaulukon prosenteista\n",
    "\n",
    "df4['%'].plot.bar(width=0.8, rot=45)\n",
    "\n",
    "plt.ylabel(f'prosenttia (n = {df4[\"f\"].sum()})')\n",
    "plt.gca().yaxis.set_major_formatter(ticks)\n",
    "plt.grid(axis='x')"
   ]
  },
  {
   "cell_type": "markdown",
   "id": "1a6397c6",
   "metadata": {},
   "source": [
    "## Usean kaavion kuvio\n",
    "\n",
    "**For**-toistorakennetta käyttäen voin esittää usean muuttujan jakaumat yhdessä kuviossa, joka sisältää monta kaaviota.\n",
    "\n",
    "Komento `fig, axs = plt.subplots(nrows=1, ncols=5, sharey=True, figsize=(12, 3))` luo kuvion, jossa on 5 kaaviota vierekkäin (ncols=5) ja kaavioilla on yhteinen y-akseli (sharey=True). Komento palauttaa sekä kuvion (fig) että sen sisältämien kaavioiden listan (axs).\n",
    "\n",
    "**Enumerate**-funktio palauttaa sekä tyytyväisyydet-listan muuttujien järjestysnumerot (i) että muuttujien nimet (var). Järjestysnumeroita tarvitaan osoittamaan mihin kaavioon mikäkin muuttuja sijoitetaan (`ax=axs[i]`).\n",
    "\n",
    "Värikarttoja https://matplotlib.org/stable/tutorials/colors/colormaps.html (palette-parametri)."
   ]
  },
  {
   "cell_type": "code",
   "execution_count": 13,
   "id": "93f9e558",
   "metadata": {},
   "outputs": [
    {
     "data": {
      "text/plain": [
       "Text(0, 0.5, 'lukumäärä')"
      ]
     },
     "execution_count": 13,
     "metadata": {},
     "output_type": "execute_result"
    },
    {
     "data": {
      "image/png": "[encoded data removed]",
      "text/plain": [
       "<Figure size 1200x300 with 5 Axes>"
      ]
     },
     "metadata": {},
     "output_type": "display_data"
    }
   ],
   "source": [
    "tyytyväisyydet = ['johto', 'työtov_cat', 'työymp', 'palkkat', 'työteht']\n",
    "\n",
    "fig, axs = plt.subplots(nrows=1, ncols=5, sharey=True, figsize=(12, 3))\n",
    "\n",
    "for i, var in enumerate(tyytyväisyydet):\n",
    "    sns.countplot(data=df, x=var, ax=axs[i], palette='Blues')\n",
    "    axs[i].set_ylabel('')\n",
    "\n",
    "# Otsikko ensimmäisen kaavion y-akselille\n",
    "axs[0].set_ylabel('lukumäärä')"
   ]
  },
  {
   "cell_type": "markdown",
   "id": "9f98796d",
   "metadata": {},
   "source": [
    "## Luokiteltu jakauma\n",
    "\n",
    "Määrällisen muuttujan voin luokitella pandas-kirjaston **cut**-funktiolla. Oletuksena luokat eivät sisällä luokan alarajaa, mutta sisältävät ylärajan.\n",
    "\n",
    "**Histplot**-funktio tuottaa luokituksen, jossa luokat sisältävät alarajan, mutta eivät ylärajaa.\n",
    "\n",
    "Jos haluan cut-funktion tuottamien luokkien olevan yhdenmukaisia histogrammin kanssa, käytän cut-funktion yhteydessä parametria `right=False`. Tämänkin jälkeen voi tulla eroa viimeisen luokan ylärajan kohdalla, joka histogrammissa sisältyy luokkaan."
   ]
  },
  {
   "cell_type": "code",
   "execution_count": 14,
   "id": "47bc381e",
   "metadata": {},
   "outputs": [
    {
     "data": {
      "text/html": [
       "<style type=\"text/css\">\n",
       "</style>\n",
       "<table id=\"T_6d1cc\">\n",
       "  <thead>\n",
       "    <tr>\n",
       "      <th class=\"index_name level0\" ></th>\n",
       "      <th id=\"T_6d1cc_level0_col0\" class=\"col_heading level0 col0\" >f</th>\n",
       "      <th id=\"T_6d1cc_level0_col1\" class=\"col_heading level0 col1\" >%</th>\n",
       "    </tr>\n",
       "    <tr>\n",
       "      <th class=\"index_name level0\" >ikäluokka</th>\n",
       "      <th class=\"blank col0\" >&nbsp;</th>\n",
       "      <th class=\"blank col1\" >&nbsp;</th>\n",
       "    </tr>\n",
       "  </thead>\n",
       "  <tbody>\n",
       "    <tr>\n",
       "      <th id=\"T_6d1cc_level0_row0\" class=\"row_heading level0 row0\" >[19, 29)</th>\n",
       "      <td id=\"T_6d1cc_row0_col0\" class=\"data row0 col0\" >14</td>\n",
       "      <td id=\"T_6d1cc_row0_col1\" class=\"data row0 col1\" >17.1 %</td>\n",
       "    </tr>\n",
       "    <tr>\n",
       "      <th id=\"T_6d1cc_level0_row1\" class=\"row_heading level0 row1\" >[29, 39)</th>\n",
       "      <td id=\"T_6d1cc_row1_col0\" class=\"data row1 col0\" >30</td>\n",
       "      <td id=\"T_6d1cc_row1_col1\" class=\"data row1 col1\" >36.6 %</td>\n",
       "    </tr>\n",
       "    <tr>\n",
       "      <th id=\"T_6d1cc_level0_row2\" class=\"row_heading level0 row2\" >[39, 49)</th>\n",
       "      <td id=\"T_6d1cc_row2_col0\" class=\"data row2 col0\" >25</td>\n",
       "      <td id=\"T_6d1cc_row2_col1\" class=\"data row2 col1\" >30.5 %</td>\n",
       "    </tr>\n",
       "    <tr>\n",
       "      <th id=\"T_6d1cc_level0_row3\" class=\"row_heading level0 row3\" >[49, 59)</th>\n",
       "      <td id=\"T_6d1cc_row3_col0\" class=\"data row3 col0\" >11</td>\n",
       "      <td id=\"T_6d1cc_row3_col1\" class=\"data row3 col1\" >13.4 %</td>\n",
       "    </tr>\n",
       "    <tr>\n",
       "      <th id=\"T_6d1cc_level0_row4\" class=\"row_heading level0 row4\" >[59, 69)</th>\n",
       "      <td id=\"T_6d1cc_row4_col0\" class=\"data row4 col0\" >2</td>\n",
       "      <td id=\"T_6d1cc_row4_col1\" class=\"data row4 col1\" >2.4 %</td>\n",
       "    </tr>\n",
       "  </tbody>\n",
       "</table>\n"
      ],
      "text/plain": [
       "<pandas.io.formats.style.Styler at 0x1f55c69e050>"
      ]
     },
     "execution_count": 14,
     "metadata": {},
     "output_type": "execute_result"
    }
   ],
   "source": [
    "bins = [19, 29, 39, 49, 59, 69]\n",
    "df['ikäluokka'] = pd.cut(df['ikä'], bins=bins, right=False)\n",
    "\n",
    "df5 = pd.crosstab(df['ikäluokka'], 'f')\n",
    "\n",
    "df5.columns.name = ''\n",
    "df5['%'] = df5['f']/df5['f'].sum()*100\n",
    "\n",
    "df5.style.format(format)"
   ]
  },
  {
   "cell_type": "code",
   "execution_count": 15,
   "id": "88edd993",
   "metadata": {},
   "outputs": [
    {
     "data": {
      "text/plain": [
       "([<matplotlib.axis.XTick at 0x1f55d9065f0>,\n",
       "  <matplotlib.axis.XTick at 0x1f55d9065c0>,\n",
       "  <matplotlib.axis.XTick at 0x1f55c7b1330>,\n",
       "  <matplotlib.axis.XTick at 0x1f55d964c70>,\n",
       "  <matplotlib.axis.XTick at 0x1f55d965720>,\n",
       "  <matplotlib.axis.XTick at 0x1f55d9661d0>],\n",
       " [Text(19, 0, '19'),\n",
       "  Text(29, 0, '29'),\n",
       "  Text(39, 0, '39'),\n",
       "  Text(49, 0, '49'),\n",
       "  Text(59, 0, '59'),\n",
       "  Text(69, 0, '69')])"
      ]
     },
     "execution_count": 15,
     "metadata": {},
     "output_type": "execute_result"
    },
    {
     "data": {
      "image/png": "[encoded data removed]",
      "text/plain": [
       "<Figure size 640x480 with 1 Axes>"
      ]
     },
     "metadata": {},
     "output_type": "display_data"
    }
   ],
   "source": [
    "# Histogrammi luokitellun jakauman havainnollistamiseen\n",
    "sns.histplot(df['ikä'], bins=bins)\n",
    "\n",
    "plt.ylabel(f'lukumäärä (n = {df[\"ikä\"].count()})')\n",
    "\n",
    "# x-akselille luokkien rajakohdat\n",
    "plt.xticks(bins)"
   ]
  },
  {
   "cell_type": "code",
   "execution_count": 16,
   "id": "d81f6303",
   "metadata": {},
   "outputs": [
    {
     "data": {
      "image/png": "[encoded data removed]",
      "text/plain": [
       "<Figure size 640x480 with 1 Axes>"
      ]
     },
     "metadata": {},
     "output_type": "display_data"
    }
   ],
   "source": [
    "# Prosentit histplot-kaavioon\n",
    "\n",
    "sns.histplot(df['ikä'], stat='percent', bins=bins)\n",
    "\n",
    "plt.xlabel('ikä')\n",
    "plt.ylabel(f'% (n = {df[\"ikä\"].count()})')\n",
    "plt.xticks(bins)\n",
    "plt.gca().yaxis.set_major_formatter(ticks)"
   ]
  },
  {
   "cell_type": "markdown",
   "id": "59280d1b",
   "metadata": {},
   "source": [
    "## Tilastolliset tunnusluvut\n",
    "\n",
    "Tilastolliset tunnusluvut voin laskea **describe**-funktiolla. \n",
    "\n",
    "Seabornin **Boxplot** on hyvä tapa havainnollistaa tunnuslukuja (pienin, alaneljännes, mediaani, yläneljännes, suurin).\n",
    "\n",
    "Usean muuttujan keskiarvojen havainnollistamiseen sopii seabornin **barplot**, joka esittää oletuksena keskiarvot pylväinä ja näyttää myös virhemarginaalit."
   ]
  },
  {
   "cell_type": "code",
   "execution_count": 17,
   "id": "a88975c2",
   "metadata": {},
   "outputs": [
    {
     "data": {
      "text/plain": [
       "count      82.000000\n",
       "mean     2563.878049\n",
       "std       849.350302\n",
       "min      1521.000000\n",
       "25%      2027.000000\n",
       "50%      2320.000000\n",
       "75%      2808.000000\n",
       "max      6278.000000\n",
       "Name: palkka, dtype: float64"
      ]
     },
     "execution_count": 17,
     "metadata": {},
     "output_type": "execute_result"
    }
   ],
   "source": [
    "# Palkan tunnuslukuja\n",
    "df['palkka'].describe()"
   ]
  },
  {
   "cell_type": "code",
   "execution_count": 18,
   "id": "eaa68cab",
   "metadata": {},
   "outputs": [
    {
     "data": {
      "text/plain": [
       "<Axes: xlabel='palkka'>"
      ]
     },
     "execution_count": 18,
     "metadata": {},
     "output_type": "execute_result"
    },
    {
     "data": {
      "image/png": "[encoded data removed]",
      "text/plain": [
       "<Figure size 640x480 with 1 Axes>"
      ]
     },
     "metadata": {},
     "output_type": "display_data"
    }
   ],
   "source": [
    "# Boxplot palkalle\n",
    "sns.boxplot(data=df, x='palkka')"
   ]
  },
  {
   "cell_type": "code",
   "execution_count": 19,
   "id": "f5ec6d5e",
   "metadata": {},
   "outputs": [
    {
     "data": {
      "text/html": [
       "<div>\n",
       "<style scoped>\n",
       "    .dataframe tbody tr th:only-of-type {\n",
       "        vertical-align: middle;\n",
       "    }\n",
       "\n",
       "    .dataframe tbody tr th {\n",
       "        vertical-align: top;\n",
       "    }\n",
       "\n",
       "    .dataframe thead th {\n",
       "        text-align: right;\n",
       "    }\n",
       "</style>\n",
       "<table border=\"1\" class=\"dataframe\">\n",
       "  <thead>\n",
       "    <tr style=\"text-align: right;\">\n",
       "      <th></th>\n",
       "      <th>johto</th>\n",
       "      <th>työtov</th>\n",
       "      <th>työymp</th>\n",
       "      <th>palkkat</th>\n",
       "      <th>työteht</th>\n",
       "    </tr>\n",
       "  </thead>\n",
       "  <tbody>\n",
       "    <tr>\n",
       "      <th>count</th>\n",
       "      <td>82.000000</td>\n",
       "      <td>81.000000</td>\n",
       "      <td>82.000000</td>\n",
       "      <td>82.000000</td>\n",
       "      <td>82.000000</td>\n",
       "    </tr>\n",
       "    <tr>\n",
       "      <th>mean</th>\n",
       "      <td>3.060976</td>\n",
       "      <td>4.061728</td>\n",
       "      <td>3.219512</td>\n",
       "      <td>2.109756</td>\n",
       "      <td>3.195122</td>\n",
       "    </tr>\n",
       "    <tr>\n",
       "      <th>std</th>\n",
       "      <td>1.058155</td>\n",
       "      <td>0.826826</td>\n",
       "      <td>1.154961</td>\n",
       "      <td>1.111179</td>\n",
       "      <td>1.047502</td>\n",
       "    </tr>\n",
       "    <tr>\n",
       "      <th>min</th>\n",
       "      <td>1.000000</td>\n",
       "      <td>2.000000</td>\n",
       "      <td>1.000000</td>\n",
       "      <td>1.000000</td>\n",
       "      <td>1.000000</td>\n",
       "    </tr>\n",
       "    <tr>\n",
       "      <th>25%</th>\n",
       "      <td>2.000000</td>\n",
       "      <td>4.000000</td>\n",
       "      <td>3.000000</td>\n",
       "      <td>1.000000</td>\n",
       "      <td>3.000000</td>\n",
       "    </tr>\n",
       "    <tr>\n",
       "      <th>50%</th>\n",
       "      <td>3.000000</td>\n",
       "      <td>4.000000</td>\n",
       "      <td>3.000000</td>\n",
       "      <td>2.000000</td>\n",
       "      <td>3.000000</td>\n",
       "    </tr>\n",
       "    <tr>\n",
       "      <th>75%</th>\n",
       "      <td>4.000000</td>\n",
       "      <td>5.000000</td>\n",
       "      <td>4.000000</td>\n",
       "      <td>3.000000</td>\n",
       "      <td>4.000000</td>\n",
       "    </tr>\n",
       "    <tr>\n",
       "      <th>max</th>\n",
       "      <td>5.000000</td>\n",
       "      <td>5.000000</td>\n",
       "      <td>5.000000</td>\n",
       "      <td>5.000000</td>\n",
       "      <td>5.000000</td>\n",
       "    </tr>\n",
       "  </tbody>\n",
       "</table>\n",
       "</div>"
      ],
      "text/plain": [
       "           johto     työtov     työymp    palkkat    työteht\n",
       "count  82.000000  81.000000  82.000000  82.000000  82.000000\n",
       "mean    3.060976   4.061728   3.219512   2.109756   3.195122\n",
       "std     1.058155   0.826826   1.154961   1.111179   1.047502\n",
       "min     1.000000   2.000000   1.000000   1.000000   1.000000\n",
       "25%     2.000000   4.000000   3.000000   1.000000   3.000000\n",
       "50%     3.000000   4.000000   3.000000   2.000000   3.000000\n",
       "75%     4.000000   5.000000   4.000000   3.000000   4.000000\n",
       "max     5.000000   5.000000   5.000000   5.000000   5.000000"
      ]
     },
     "execution_count": 19,
     "metadata": {},
     "output_type": "execute_result"
    }
   ],
   "source": [
    "# Tunnuslukuja tyytyväisyyksille\n",
    "df.loc[:, 'johto':'työteht'].describe()"
   ]
  },
  {
   "cell_type": "code",
   "execution_count": 20,
   "id": "4ae5023d",
   "metadata": {},
   "outputs": [
    {
     "data": {
      "text/plain": [
       "Text(0.5, 0, 'tyytyväisyyskeskiarvo (5 = erittäin tyytyväinen)')"
      ]
     },
     "execution_count": 20,
     "metadata": {},
     "output_type": "execute_result"
    },
    {
     "data": {
      "image/png": "[encoded data removed]",
      "text/plain": [
       "<Figure size 640x480 with 1 Axes>"
      ]
     },
     "metadata": {},
     "output_type": "display_data"
    }
   ],
   "source": [
    "# Tyytyväisyysmuuttujien lista keskiarvon mukaisessa järjestyksessä\n",
    "list1 = df.loc[:,'johto':'työteht'].mean().sort_values().index\n",
    "\n",
    "# Keskiarvoja kuvaavat pylväät ja virhemarginaalit\n",
    "sns.barplot(data=df[list1], orient='h')\n",
    "\n",
    "# x-akselin skaalaus (pienin arvo 1, suurin arvo 5)\n",
    "plt.xlim(1, 5)\n",
    "\n",
    "plt.xlabel('tyytyväisyyskeskiarvo (5 = erittäin tyytyväinen)')"
   ]
  },
  {
   "cell_type": "code",
   "execution_count": 21,
   "id": "24f484a0",
   "metadata": {},
   "outputs": [
    {
     "data": {
      "text/html": [
       "<div>\n",
       "<style scoped>\n",
       "    .dataframe tbody tr th:only-of-type {\n",
       "        vertical-align: middle;\n",
       "    }\n",
       "\n",
       "    .dataframe tbody tr th {\n",
       "        vertical-align: top;\n",
       "    }\n",
       "\n",
       "    .dataframe thead th {\n",
       "        text-align: right;\n",
       "    }\n",
       "</style>\n",
       "<table border=\"1\" class=\"dataframe\">\n",
       "  <thead>\n",
       "    <tr style=\"text-align: right;\">\n",
       "      <th></th>\n",
       "      <th>id</th>\n",
       "      <th>Delivery Speed</th>\n",
       "      <th>Price Level</th>\n",
       "      <th>Price Flexibility</th>\n",
       "      <th>Manufacturer Image</th>\n",
       "      <th>Service</th>\n",
       "      <th>Salesforce Image</th>\n",
       "      <th>Product Quality</th>\n",
       "      <th>Satisfaction Level</th>\n",
       "      <th>Firm size</th>\n",
       "      <th>Usage level %</th>\n",
       "      <th>Industry type</th>\n",
       "      <th>Buying situation</th>\n",
       "    </tr>\n",
       "  </thead>\n",
       "  <tbody>\n",
       "    <tr>\n",
       "      <th>0</th>\n",
       "      <td>1</td>\n",
       "      <td>4.1</td>\n",
       "      <td>0.6</td>\n",
       "      <td>6.9</td>\n",
       "      <td>4.7</td>\n",
       "      <td>2.4</td>\n",
       "      <td>2.3</td>\n",
       "      <td>5.2</td>\n",
       "      <td>4.2</td>\n",
       "      <td>0</td>\n",
       "      <td>32</td>\n",
       "      <td>1</td>\n",
       "      <td>1</td>\n",
       "    </tr>\n",
       "    <tr>\n",
       "      <th>1</th>\n",
       "      <td>2</td>\n",
       "      <td>1.8</td>\n",
       "      <td>3.0</td>\n",
       "      <td>6.3</td>\n",
       "      <td>6.6</td>\n",
       "      <td>2.5</td>\n",
       "      <td>4.0</td>\n",
       "      <td>8.4</td>\n",
       "      <td>4.3</td>\n",
       "      <td>1</td>\n",
       "      <td>43</td>\n",
       "      <td>0</td>\n",
       "      <td>1</td>\n",
       "    </tr>\n",
       "    <tr>\n",
       "      <th>2</th>\n",
       "      <td>3</td>\n",
       "      <td>3.4</td>\n",
       "      <td>5.2</td>\n",
       "      <td>5.7</td>\n",
       "      <td>6.0</td>\n",
       "      <td>4.3</td>\n",
       "      <td>2.7</td>\n",
       "      <td>8.2</td>\n",
       "      <td>5.2</td>\n",
       "      <td>1</td>\n",
       "      <td>48</td>\n",
       "      <td>1</td>\n",
       "      <td>2</td>\n",
       "    </tr>\n",
       "    <tr>\n",
       "      <th>3</th>\n",
       "      <td>4</td>\n",
       "      <td>2.7</td>\n",
       "      <td>1.0</td>\n",
       "      <td>7.1</td>\n",
       "      <td>5.9</td>\n",
       "      <td>1.8</td>\n",
       "      <td>2.3</td>\n",
       "      <td>7.8</td>\n",
       "      <td>3.9</td>\n",
       "      <td>1</td>\n",
       "      <td>32</td>\n",
       "      <td>1</td>\n",
       "      <td>1</td>\n",
       "    </tr>\n",
       "    <tr>\n",
       "      <th>4</th>\n",
       "      <td>5</td>\n",
       "      <td>6.0</td>\n",
       "      <td>0.9</td>\n",
       "      <td>9.6</td>\n",
       "      <td>7.8</td>\n",
       "      <td>3.4</td>\n",
       "      <td>4.6</td>\n",
       "      <td>4.5</td>\n",
       "      <td>6.8</td>\n",
       "      <td>0</td>\n",
       "      <td>58</td>\n",
       "      <td>1</td>\n",
       "      <td>3</td>\n",
       "    </tr>\n",
       "    <tr>\n",
       "      <th>...</th>\n",
       "      <td>...</td>\n",
       "      <td>...</td>\n",
       "      <td>...</td>\n",
       "      <td>...</td>\n",
       "      <td>...</td>\n",
       "      <td>...</td>\n",
       "      <td>...</td>\n",
       "      <td>...</td>\n",
       "      <td>...</td>\n",
       "      <td>...</td>\n",
       "      <td>...</td>\n",
       "      <td>...</td>\n",
       "      <td>...</td>\n",
       "    </tr>\n",
       "    <tr>\n",
       "      <th>95</th>\n",
       "      <td>96</td>\n",
       "      <td>0.6</td>\n",
       "      <td>1.6</td>\n",
       "      <td>6.4</td>\n",
       "      <td>5.0</td>\n",
       "      <td>0.7</td>\n",
       "      <td>2.1</td>\n",
       "      <td>8.4</td>\n",
       "      <td>3.4</td>\n",
       "      <td>1</td>\n",
       "      <td>25</td>\n",
       "      <td>1</td>\n",
       "      <td>1</td>\n",
       "    </tr>\n",
       "    <tr>\n",
       "      <th>96</th>\n",
       "      <td>97</td>\n",
       "      <td>6.1</td>\n",
       "      <td>0.5</td>\n",
       "      <td>9.2</td>\n",
       "      <td>4.8</td>\n",
       "      <td>3.3</td>\n",
       "      <td>2.8</td>\n",
       "      <td>7.1</td>\n",
       "      <td>5.2</td>\n",
       "      <td>0</td>\n",
       "      <td>60</td>\n",
       "      <td>1</td>\n",
       "      <td>3</td>\n",
       "    </tr>\n",
       "    <tr>\n",
       "      <th>97</th>\n",
       "      <td>98</td>\n",
       "      <td>2.0</td>\n",
       "      <td>2.8</td>\n",
       "      <td>5.2</td>\n",
       "      <td>5.0</td>\n",
       "      <td>2.4</td>\n",
       "      <td>2.7</td>\n",
       "      <td>8.4</td>\n",
       "      <td>3.7</td>\n",
       "      <td>1</td>\n",
       "      <td>38</td>\n",
       "      <td>0</td>\n",
       "      <td>1</td>\n",
       "    </tr>\n",
       "    <tr>\n",
       "      <th>98</th>\n",
       "      <td>99</td>\n",
       "      <td>3.1</td>\n",
       "      <td>2.2</td>\n",
       "      <td>6.7</td>\n",
       "      <td>6.8</td>\n",
       "      <td>2.6</td>\n",
       "      <td>2.9</td>\n",
       "      <td>8.4</td>\n",
       "      <td>4.3</td>\n",
       "      <td>1</td>\n",
       "      <td>42</td>\n",
       "      <td>0</td>\n",
       "      <td>1</td>\n",
       "    </tr>\n",
       "    <tr>\n",
       "      <th>99</th>\n",
       "      <td>100</td>\n",
       "      <td>2.5</td>\n",
       "      <td>1.8</td>\n",
       "      <td>9.0</td>\n",
       "      <td>5.0</td>\n",
       "      <td>2.2</td>\n",
       "      <td>3.0</td>\n",
       "      <td>6.0</td>\n",
       "      <td>4.4</td>\n",
       "      <td>0</td>\n",
       "      <td>33</td>\n",
       "      <td>0</td>\n",
       "      <td>1</td>\n",
       "    </tr>\n",
       "  </tbody>\n",
       "</table>\n",
       "<p>100 rows × 13 columns</p>\n",
       "</div>"
      ],
      "text/plain": [
       "     id  Delivery Speed  Price Level  Price Flexibility  Manufacturer Image  \\\n",
       "0     1             4.1          0.6                6.9                 4.7   \n",
       "1     2             1.8          3.0                6.3                 6.6   \n",
       "2     3             3.4          5.2                5.7                 6.0   \n",
       "3     4             2.7          1.0                7.1                 5.9   \n",
       "4     5             6.0          0.9                9.6                 7.8   \n",
       "..  ...             ...          ...                ...                 ...   \n",
       "95   96             0.6          1.6                6.4                 5.0   \n",
       "96   97             6.1          0.5                9.2                 4.8   \n",
       "97   98             2.0          2.8                5.2                 5.0   \n",
       "98   99             3.1          2.2                6.7                 6.8   \n",
       "99  100             2.5          1.8                9.0                 5.0   \n",
       "\n",
       "    Service  Salesforce Image  Product Quality  Satisfaction Level  Firm size  \\\n",
       "0       2.4               2.3              5.2                 4.2          0   \n",
       "1       2.5               4.0              8.4                 4.3          1   \n",
       "2       4.3               2.7              8.2                 5.2          1   \n",
       "3       1.8               2.3              7.8                 3.9          1   \n",
       "4       3.4               4.6              4.5                 6.8          0   \n",
       "..      ...               ...              ...                 ...        ...   \n",
       "95      0.7               2.1              8.4                 3.4          1   \n",
       "96      3.3               2.8              7.1                 5.2          0   \n",
       "97      2.4               2.7              8.4                 3.7          1   \n",
       "98      2.6               2.9              8.4                 4.3          1   \n",
       "99      2.2               3.0              6.0                 4.4          0   \n",
       "\n",
       "    Usage level %  Industry type  Buying situation  \n",
       "0              32              1                 1  \n",
       "1              43              0                 1  \n",
       "2              48              1                 2  \n",
       "3              32              1                 1  \n",
       "4              58              1                 3  \n",
       "..            ...            ...               ...  \n",
       "95             25              1                 1  \n",
       "96             60              1                 3  \n",
       "97             38              0                 1  \n",
       "98             42              0                 1  \n",
       "99             33              0                 1  \n",
       "\n",
       "[100 rows x 13 columns]"
      ]
     },
     "execution_count": 21,
     "metadata": {},
     "output_type": "execute_result"
    }
   ],
   "source": [
    "# Avaan vielä toisen datan, jossa asteikolla 0-10 mitattuja mielikuvia\n",
    "hatco = pd.read_excel('https://taanila.fi/hatco.xlsx')\n",
    "hatco"
   ]
  },
  {
   "cell_type": "code",
   "execution_count": 22,
   "id": "610da263",
   "metadata": {},
   "outputs": [],
   "source": [
    "# Pelkästään mielikuvamuuttujat\n",
    "hatco1 = hatco.loc[:, 'Delivery Speed':'Satisfaction Level'] "
   ]
  },
  {
   "cell_type": "code",
   "execution_count": 23,
   "id": "52ce7b0d",
   "metadata": {},
   "outputs": [
    {
     "data": {
      "text/html": [
       "<div>\n",
       "<style scoped>\n",
       "    .dataframe tbody tr th:only-of-type {\n",
       "        vertical-align: middle;\n",
       "    }\n",
       "\n",
       "    .dataframe tbody tr th {\n",
       "        vertical-align: top;\n",
       "    }\n",
       "\n",
       "    .dataframe thead th {\n",
       "        text-align: right;\n",
       "    }\n",
       "</style>\n",
       "<table border=\"1\" class=\"dataframe\">\n",
       "  <thead>\n",
       "    <tr style=\"text-align: right;\">\n",
       "      <th></th>\n",
       "      <th>Delivery Speed</th>\n",
       "      <th>Price Level</th>\n",
       "      <th>Price Flexibility</th>\n",
       "      <th>Manufacturer Image</th>\n",
       "      <th>Service</th>\n",
       "      <th>Salesforce Image</th>\n",
       "      <th>Product Quality</th>\n",
       "      <th>Satisfaction Level</th>\n",
       "    </tr>\n",
       "  </thead>\n",
       "  <tbody>\n",
       "    <tr>\n",
       "      <th>count</th>\n",
       "      <td>100.000000</td>\n",
       "      <td>100.000000</td>\n",
       "      <td>100.000000</td>\n",
       "      <td>100.000000</td>\n",
       "      <td>100.000000</td>\n",
       "      <td>100.000000</td>\n",
       "      <td>100.000000</td>\n",
       "      <td>100.000000</td>\n",
       "    </tr>\n",
       "    <tr>\n",
       "      <th>mean</th>\n",
       "      <td>3.515000</td>\n",
       "      <td>2.364000</td>\n",
       "      <td>7.894000</td>\n",
       "      <td>5.248000</td>\n",
       "      <td>2.916000</td>\n",
       "      <td>2.665000</td>\n",
       "      <td>6.971000</td>\n",
       "      <td>4.771000</td>\n",
       "    </tr>\n",
       "    <tr>\n",
       "      <th>std</th>\n",
       "      <td>1.320726</td>\n",
       "      <td>1.195659</td>\n",
       "      <td>1.386502</td>\n",
       "      <td>1.131414</td>\n",
       "      <td>0.751258</td>\n",
       "      <td>0.770855</td>\n",
       "      <td>1.585241</td>\n",
       "      <td>0.855558</td>\n",
       "    </tr>\n",
       "    <tr>\n",
       "      <th>min</th>\n",
       "      <td>0.000000</td>\n",
       "      <td>0.200000</td>\n",
       "      <td>5.000000</td>\n",
       "      <td>2.500000</td>\n",
       "      <td>0.700000</td>\n",
       "      <td>1.100000</td>\n",
       "      <td>3.700000</td>\n",
       "      <td>3.200000</td>\n",
       "    </tr>\n",
       "    <tr>\n",
       "      <th>25%</th>\n",
       "      <td>2.500000</td>\n",
       "      <td>1.475000</td>\n",
       "      <td>6.700000</td>\n",
       "      <td>4.575000</td>\n",
       "      <td>2.400000</td>\n",
       "      <td>2.200000</td>\n",
       "      <td>5.800000</td>\n",
       "      <td>4.100000</td>\n",
       "    </tr>\n",
       "    <tr>\n",
       "      <th>50%</th>\n",
       "      <td>3.400000</td>\n",
       "      <td>2.150000</td>\n",
       "      <td>8.050000</td>\n",
       "      <td>5.000000</td>\n",
       "      <td>3.000000</td>\n",
       "      <td>2.600000</td>\n",
       "      <td>7.150000</td>\n",
       "      <td>4.850000</td>\n",
       "    </tr>\n",
       "    <tr>\n",
       "      <th>75%</th>\n",
       "      <td>4.600000</td>\n",
       "      <td>3.225000</td>\n",
       "      <td>9.100000</td>\n",
       "      <td>6.000000</td>\n",
       "      <td>3.425000</td>\n",
       "      <td>3.000000</td>\n",
       "      <td>8.325000</td>\n",
       "      <td>5.400000</td>\n",
       "    </tr>\n",
       "    <tr>\n",
       "      <th>max</th>\n",
       "      <td>6.100000</td>\n",
       "      <td>5.400000</td>\n",
       "      <td>10.000000</td>\n",
       "      <td>8.200000</td>\n",
       "      <td>4.600000</td>\n",
       "      <td>4.600000</td>\n",
       "      <td>10.000000</td>\n",
       "      <td>6.800000</td>\n",
       "    </tr>\n",
       "  </tbody>\n",
       "</table>\n",
       "</div>"
      ],
      "text/plain": [
       "       Delivery Speed  Price Level  Price Flexibility  Manufacturer Image  \\\n",
       "count      100.000000   100.000000         100.000000          100.000000   \n",
       "mean         3.515000     2.364000           7.894000            5.248000   \n",
       "std          1.320726     1.195659           1.386502            1.131414   \n",
       "min          0.000000     0.200000           5.000000            2.500000   \n",
       "25%          2.500000     1.475000           6.700000            4.575000   \n",
       "50%          3.400000     2.150000           8.050000            5.000000   \n",
       "75%          4.600000     3.225000           9.100000            6.000000   \n",
       "max          6.100000     5.400000          10.000000            8.200000   \n",
       "\n",
       "          Service  Salesforce Image  Product Quality  Satisfaction Level  \n",
       "count  100.000000        100.000000       100.000000          100.000000  \n",
       "mean     2.916000          2.665000         6.971000            4.771000  \n",
       "std      0.751258          0.770855         1.585241            0.855558  \n",
       "min      0.700000          1.100000         3.700000            3.200000  \n",
       "25%      2.400000          2.200000         5.800000            4.100000  \n",
       "50%      3.000000          2.600000         7.150000            4.850000  \n",
       "75%      3.425000          3.000000         8.325000            5.400000  \n",
       "max      4.600000          4.600000        10.000000            6.800000  "
      ]
     },
     "execution_count": 23,
     "metadata": {},
     "output_type": "execute_result"
    }
   ],
   "source": [
    "# Tunnuslukuja mielikuva-muuttujille\n",
    "hatco1.describe()"
   ]
  },
  {
   "cell_type": "code",
   "execution_count": 24,
   "id": "aaec23bc",
   "metadata": {},
   "outputs": [
    {
     "data": {
      "text/plain": [
       "(0.0, 10.0)"
      ]
     },
     "execution_count": 24,
     "metadata": {},
     "output_type": "execute_result"
    },
    {
     "data": {
      "image/png": "[encoded data removed]",
      "text/plain": [
       "<Figure size 640x480 with 1 Axes>"
      ]
     },
     "metadata": {},
     "output_type": "display_data"
    }
   ],
   "source": [
    "# Mielikuvamuuttujat keskiarvojen mukaisessa järjestyksessä\n",
    "list2 = hatco1.mean().sort_values().index\n",
    "\n",
    "# Keskiarvot ja virhemarginaalit\n",
    "sns.barplot(data=hatco1[list2], orient='h')\n",
    "\n",
    "plt.xlabel('mielikuva (0 = huono, 10 = erinomainen)')\n",
    "plt.xlim(0, 10)"
   ]
  },
  {
   "cell_type": "code",
   "execution_count": 26,
   "id": "5bb57a6a",
   "metadata": {},
   "outputs": [
    {
     "data": {
      "text/plain": [
       "(0.0, 10.0)"
      ]
     },
     "execution_count": 26,
     "metadata": {},
     "output_type": "execute_result"
    },
    {
     "data": {
      "image/png": "[encoded data removed]",
      "text/plain": [
       "<Figure size 640x480 with 1 Axes>"
      ]
     },
     "metadata": {},
     "output_type": "display_data"
    }
   ],
   "source": [
    "# Boxplot mielikuvamuuttujista\n",
    "# Boxplot sisältää enemmän informaatiota kuin pelkkien keskiarvojen esittäminen!\n",
    "sns.boxplot(data=hatco1[list2], orient='h')\n",
    "\n",
    "plt.xlabel('mielikuva (0 = huono, 10 = erinomainen)')\n",
    "plt.xlim(0, 10)"
   ]
  },
  {
   "cell_type": "markdown",
   "id": "a3ccc3dd",
   "metadata": {},
   "source": [
    "\n",
    "## Kaavioiden värit ja koot\n",
    "\n",
    "Kaavion luonnissa voin määrittää värin **color**-parametrin arvona (toimii myös seaborn-kaavioille). Esimerkiksi tämän muistion ensimmäiseen kaavioon saan pylväille vihreän värin seuraavasti: `df1['f'].plot.bar(width=0.8, rot=0, color='green')`. Reunavärin voin määrittää **edgecolor**-parametrilla.\n",
    "\n",
    "Värejä: https://matplotlib.org/stable/gallery/color/named_colors.html\n",
    "\n",
    "Kaavion luonnissa voit määrittää käytettävän värikartan suoraan dataframesta tehdyille kaavioille **cmap**-parametrilla ja seaborn-kaavioille **palette**-parametrilla. Esimerkiksi tämän muistion viimeisessä kaaviossa voin vaihtaa värikartaksi Greens: `sns.boxplot(data=hatco1[list2], orient='h', palette='Greens')`\n",
    "\n",
    "Värikarttoja: https://matplotlib.org/stable/tutorials/colors/colormaps.html\n",
    "\n",
    "Suoraan dataframesta tehdyn kaavion koon voin määrittää **figsize**-parametrin arvona. Esimerkiksi `df1['f'].plot.bar(width=0.8, rot=0, figsize=(10, 6))`\n",
    "\n",
    "Seaborn-kaavion koon voin määrittää luomalla kaaviota ympäröivän kuvion (figure) ennen kaavion luomista. Esimerkiksi `plt.figure(figsize=(10,6))`"
   ]
  },
  {
   "cell_type": "markdown",
   "id": "c825341e",
   "metadata": {},
   "source": [
    "## Lisätietoa\n",
    "\n",
    "Data-analytiikka Pythonilla https://tilastoapu.wordpress.com/python/"
   ]
  }
 ],
 "metadata": {
  "kernelspec": {
   "display_name": "Python 3 (ipykernel)",
   "language": "python",
   "name": "python3"
  },
  "language_info": {
   "codemirror_mode": {
    "name": "ipython",
    "version": 3
   },
   "file_extension": ".py",
   "mimetype": "text/x-python",
   "name": "python",
   "nbconvert_exporter": "python",
   "pygments_lexer": "ipython3",
   "version": "3.10.9"
  }
 },
 "nbformat": 4,
 "nbformat_minor": 5
}
