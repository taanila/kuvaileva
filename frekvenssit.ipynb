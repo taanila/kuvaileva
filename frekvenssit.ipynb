{
 "cells": [
  {
   "cell_type": "code",
   "execution_count": 1,
   "metadata": {},
   "outputs": [
    {
     "name": "stdout",
     "output_type": "stream",
     "text": [
      "Päivitetty 2022-10-26 19:01:30.647623\n"
     ]
    }
   ],
   "source": [
    "from datetime import datetime\n",
    "print(f'Päivitetty {datetime.now()}')"
   ]
  },
  {
   "cell_type": "markdown",
   "metadata": {},
   "source": [
    "# Frekvenssitaulukot Exceliin\n",
    "\n",
    "Datan tilalla voi käyttää mitä tahansa oikeaoppisesti tallennettua dataa."
   ]
  },
  {
   "cell_type": "code",
   "execution_count": 2,
   "metadata": {},
   "outputs": [],
   "source": [
    "import pandas as pd\n",
    "\n",
    "# Excelin ohjaukseen\n",
    "import xlwings as xw\n",
    "\n",
    "# Jos ainutkertaisia arvoja enemmän kuin RAJA, niin ei tulkita kategoriseksi\n",
    "RAJA = 10\n",
    "\n",
    "# Avaan datan\n",
    "df = pd.read_excel('http://taanila.fi/data1.xlsx')"
   ]
  },
  {
   "cell_type": "code",
   "execution_count": 3,
   "metadata": {},
   "outputs": [],
   "source": [
    "# Lista kategorisista muuttujista\n",
    "kategoriset = []\n",
    "for var in df:\n",
    "    if len(df[var].unique()) <= RAJA:\n",
    "        kategoriset.append(var)\n",
    "\n",
    "if kategoriset:\n",
    "    \n",
    "    # Excel-työkirja (workbook)\n",
    "    app = xw.App(visible=False)\n",
    "    wb = xw.books.active\n",
    "    \n",
    "    # Taulukkovälilehden nimeäminen\n",
    "    ws1 = wb.sheets.active\n",
    "    ws1.name = 'frekvenssitaulukot'\n",
    "    \n",
    "    # Pidän kirjaa Excelin rivinumerosta rivi-muuttujan avulla\n",
    "    rivi = 3\n",
    "    \n",
    "    # Käyn for-silmukalla läpi kaikki kategoriset muuttujat\n",
    "    for var in kategoriset:\n",
    "        \n",
    "        # Lasken frekvenssit df1-nimiseen dataframeen\n",
    "        df1 = pd.crosstab(df[var], 'f')\n",
    "        \n",
    "        # Lasken df1:een prosentit\n",
    "        df1['%'] = df1/df1.sum()\n",
    "        \n",
    "        # Lisään df1:een Yhteensä-rivin\n",
    "        df1.loc['yhteensä'] = df1.sum()\n",
    "        \n",
    "        # Frekvenssitaulukko Exceliin\n",
    "        ws1.range((rivi, 1)).value = df1\n",
    "        ws1.range((rivi+1, 3),(rivi+len(df1), 3)).number_format = '0,0 %'\n",
    "        ws1.range((rivi, 2), (rivi, 3)).api.HorizontalAlignment = \\\n",
    "            xw.constants.HAlign.xlHAlignRight\n",
    "        \n",
    "        # Kasvatan rivinumeroa; shape[0] antaa df1:n rivimäärän\n",
    "        rivi = rivi + df1.shape[0] + 2\n",
    "    \n",
    "    # Otsikointi\n",
    "    ws1.range(1, 1).value = 'Frekvenssitaulukot kategorisille muuttujille'\n",
    "    ws1.range(1, 1).font.bold = True\n",
    "    \n",
    "# Näytetään Excel\n",
    "app.visible = True"
   ]
  },
  {
   "cell_type": "markdown",
   "metadata": {},
   "source": [
    "Lisätietoa Pythonin käytöstä data-analytiikassa https://tilastoapu.wordpress.com/python/"
   ]
  }
 ],
 "metadata": {
  "kernelspec": {
   "display_name": "Python 3 (ipykernel)",
   "language": "python",
   "name": "python3"
  },
  "language_info": {
   "codemirror_mode": {
    "name": "ipython",
    "version": 3
   },
   "file_extension": ".py",
   "mimetype": "text/x-python",
   "name": "python",
   "nbconvert_exporter": "python",
   "pygments_lexer": "ipython3",
   "version": "3.10.6"
  }
 },
 "nbformat": 4,
 "nbformat_minor": 2
}
